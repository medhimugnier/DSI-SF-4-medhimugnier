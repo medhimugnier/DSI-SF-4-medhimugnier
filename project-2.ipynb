{
 "cells": [
  {
   "cell_type": "markdown",
   "metadata": {},
   "source": [
    "<img src=\"http://imgur.com/1ZcRyrc.png\" style=\"float: left; margin: 15px; height: 80px\">\n",
    "\n",
    "# Project 2\n",
    "\n",
    "### Exploratory Data Analysis (EDA)\n",
    "\n",
    "---\n",
    "\n",
    "This project is focused on exploratory data analysis (EDA). EDA is an essential part of the data science analysis pipeline. Failure to perform EDA before modeling is almost guaranteed to lead to pitfalls and faulty conclusions. What you do in this project are good practices for all projects going forward, especially those beyond this class!\n",
    "\n",
    "Problems 1 thru 6 use a small dataset on state SAT scores.\n",
    "\n",
    "Problems 7 thru 12 use a fraction of the Iowa Liquor Sales dataset (described in more detail in question 7).\n",
    "\n",
    "---\n",
    "\n",
    "This project includes a variety of plotting problems. Much of the plotting code will be left up to you to find either in the lecture notes, or if not there, online. There are massive amounts of code snippets either in documentation or sites like stackoverflow that have almost certainly done what you are trying to do.\n",
    "\n",
    "**Get used to using google for finding code!** You will be using it every single day as a data scientist, especially for visualization and plotting.\n",
    "\n",
    "#### Package imports"
   ]
  },
  {
   "cell_type": "code",
   "execution_count": 2,
   "metadata": {
    "collapsed": true
   },
   "outputs": [],
   "source": [
    "import numpy as np\n",
    "import scipy.stats as stats\n",
    "import csv\n",
    "import pandas as pd\n",
    "import seaborn as sns\n",
    "import matplotlib.pyplot as plt\n",
    "from datetime import datetime\n",
    "\n",
    "# this line tells jupyter notebook to put the plots in the notebook rather than saving them to file.\n",
    "%matplotlib inline\n",
    "\n",
    "# this line makes plots prettier on mac retina screens. If you don't have one it shouldn't do anything.\n",
    "%config InlineBackend.figure_format = 'retina'"
   ]
  },
  {
   "cell_type": "markdown",
   "metadata": {},
   "source": [
    "<img src=\"http://imgur.com/l5NasQj.png\" style=\"float: left; margin: 25px 15px 0px 0px; height: 25px\">\n",
    "\n",
    "## 1. Load the `sat_scores.csv` dataset and describe it\n",
    "\n",
    "---\n",
    "\n",
    "You should replace the placeholder path to the `sat_scores.csv` dataset below with your specific path to the file.\n",
    "\n",
    "### 1.1 Load the file with the `csv` module and put in dictionary format.\n",
    "\n",
    "The dictionary format for data will be keys as the column names/headers, and values as the row values for that column.\n",
    "\n",
    "Toy example:\n",
    "```python\n",
    "data = {\n",
    "    'column1':[0,1,2,3],\n",
    "    'column2':['a','b','c','d']\n",
    "    }\n",
    "```"
   ]
  },
  {
   "cell_type": "code",
   "execution_count": 3,
   "metadata": {
    "collapsed": true
   },
   "outputs": [],
   "source": [
    "sat_filepath = '/Users/medhimugnier/Desktop/DSI-SF-4/datasets/state_sat_scores/sat_scores.csv'"
   ]
  },
  {
   "cell_type": "code",
   "execution_count": 4,
   "metadata": {
    "collapsed": false
   },
   "outputs": [
    {
     "name": "stdout",
     "output_type": "stream",
     "text": [
      "{'Math': ('510', '513', '515', '505', '516', '499', '499', '506', '500', '501', '499', '510', '499', '489', '501', '488', '474', '526', '499', '527', '499', '515', '510', '517', '525', '515', '542', '439', '539', '512', '542', '553', '542', '589', '550', '545', '572', '589', '580', '554', '568', '561', '577', '562', '596', '550', '570', '603', '582', '599', '551', '514'), 'State': ('CT', 'NJ', 'MA', 'NY', 'NH', 'RI', 'PA', 'VT', 'ME', 'VA', 'DE', 'MD', 'NC', 'GA', 'IN', 'SC', 'DC', 'OR', 'FL', 'WA', 'TX', 'HI', 'AK', 'CA', 'AZ', 'NV', 'CO', 'OH', 'MT', 'WV', 'ID', 'TN', 'NM', 'IL', 'KY', 'WY', 'MI', 'MN', 'KS', 'AL', 'NE', 'OK', 'MO', 'LA', 'WI', 'AR', 'UT', 'IA', 'SD', 'ND', 'MS', 'All'), 'Rate': ('82', '81', '79', '77', '72', '71', '71', '69', '69', '68', '67', '65', '65', '63', '60', '57', '56', '55', '54', '53', '53', '52', '51', '51', '34', '33', '31', '26', '23', '18', '17', '13', '13', '12', '12', '11', '11', '9', '9', '9', '8', '8', '8', '7', '6', '6', '5', '5', '4', '4', '4', '45'), 'Verbal': ('509', '499', '511', '495', '520', '501', '500', '511', '506', '510', '501', '508', '493', '491', '499', '486', '482', '526', '498', '527', '493', '485', '514', '498', '523', '509', '539', '534', '539', '527', '543', '562', '551', '576', '550', '547', '561', '580', '577', '559', '562', '567', '577', '564', '584', '562', '575', '593', '577', '592', '566', '506')}\n"
     ]
    }
   ],
   "source": [
    "\n",
    "with open(sat_filepath, 'r') as f:\n",
    "    the_data = [row.strip().split(',') for row in f]\n",
    "sat_dict = {row[0]:row[1:] for row in zip(*the_data)}\n",
    "print sat_dict\n"
   ]
  },
  {
   "cell_type": "markdown",
   "metadata": {},
   "source": [
    "### 1.2 Make a pandas DataFrame object with the sat dictionary and also with the pandas `.read_csv()` function\n",
    "\n",
    "Compare the DataFrames using the `.dtypes` attribute in the DataFrame objects. What is the difference between loading from file and inputting this dictionary (if any)?"
   ]
  },
  {
   "cell_type": "code",
   "execution_count": 5,
   "metadata": {
    "collapsed": false,
    "scrolled": true
   },
   "outputs": [
    {
     "data": {
      "text/plain": [
       "Math      object\n",
       "Rate      object\n",
       "State     object\n",
       "Verbal    object\n",
       "dtype: object"
      ]
     },
     "execution_count": 5,
     "metadata": {},
     "output_type": "execute_result"
    }
   ],
   "source": [
    "# inputting dictionary\n",
    "df2 = pd.DataFrame.from_dict(sat_dict)\n",
    "#df\n",
    "\n",
    "df2.dtypes\n"
   ]
  },
  {
   "cell_type": "code",
   "execution_count": 6,
   "metadata": {
    "collapsed": false
   },
   "outputs": [
    {
     "data": {
      "text/plain": [
       "State     object\n",
       "Rate       int64\n",
       "Verbal     int64\n",
       "Math       int64\n",
       "dtype: object"
      ]
     },
     "execution_count": 6,
     "metadata": {},
     "output_type": "execute_result"
    }
   ],
   "source": [
    "# loading directly from file\n",
    "\n",
    "df = pd.read_csv('/Users/medhimugnier/Desktop/DSI-SF-4/datasets/state_sat_scores/sat_scores.csv')\n",
    "df.dtypes"
   ]
  },
  {
   "cell_type": "markdown",
   "metadata": {},
   "source": [
    "If you did not convert the string column values to float in your dictionary, the columns in the DataFrame are of type `object` (which are string values). "
   ]
  },
  {
   "cell_type": "markdown",
   "metadata": {},
   "source": [
    "### 1.3 Look at the first ten rows of the DataFrame and describe what the data appears to be. \n",
    "\n",
    "From now on, use the DataFrame loaded from the file using the `.read_csv()` function.\n",
    "\n",
    "Use the `.head(num)` built-in DataFrame function, where `num` is the number of rows to print out.\n",
    "\n",
    "You are not given a \"codebook\" with this data, so you will have to make some (very minor) inference."
   ]
  },
  {
   "cell_type": "code",
   "execution_count": 7,
   "metadata": {
    "collapsed": false
   },
   "outputs": [
    {
     "data": {
      "text/html": [
       "<div>\n",
       "<table border=\"1\" class=\"dataframe\">\n",
       "  <thead>\n",
       "    <tr style=\"text-align: right;\">\n",
       "      <th></th>\n",
       "      <th>State</th>\n",
       "      <th>Rate</th>\n",
       "      <th>Verbal</th>\n",
       "      <th>Math</th>\n",
       "    </tr>\n",
       "  </thead>\n",
       "  <tbody>\n",
       "    <tr>\n",
       "      <th>0</th>\n",
       "      <td>CT</td>\n",
       "      <td>82</td>\n",
       "      <td>509</td>\n",
       "      <td>510</td>\n",
       "    </tr>\n",
       "    <tr>\n",
       "      <th>1</th>\n",
       "      <td>NJ</td>\n",
       "      <td>81</td>\n",
       "      <td>499</td>\n",
       "      <td>513</td>\n",
       "    </tr>\n",
       "    <tr>\n",
       "      <th>2</th>\n",
       "      <td>MA</td>\n",
       "      <td>79</td>\n",
       "      <td>511</td>\n",
       "      <td>515</td>\n",
       "    </tr>\n",
       "    <tr>\n",
       "      <th>3</th>\n",
       "      <td>NY</td>\n",
       "      <td>77</td>\n",
       "      <td>495</td>\n",
       "      <td>505</td>\n",
       "    </tr>\n",
       "    <tr>\n",
       "      <th>4</th>\n",
       "      <td>NH</td>\n",
       "      <td>72</td>\n",
       "      <td>520</td>\n",
       "      <td>516</td>\n",
       "    </tr>\n",
       "    <tr>\n",
       "      <th>5</th>\n",
       "      <td>RI</td>\n",
       "      <td>71</td>\n",
       "      <td>501</td>\n",
       "      <td>499</td>\n",
       "    </tr>\n",
       "    <tr>\n",
       "      <th>6</th>\n",
       "      <td>PA</td>\n",
       "      <td>71</td>\n",
       "      <td>500</td>\n",
       "      <td>499</td>\n",
       "    </tr>\n",
       "    <tr>\n",
       "      <th>7</th>\n",
       "      <td>VT</td>\n",
       "      <td>69</td>\n",
       "      <td>511</td>\n",
       "      <td>506</td>\n",
       "    </tr>\n",
       "    <tr>\n",
       "      <th>8</th>\n",
       "      <td>ME</td>\n",
       "      <td>69</td>\n",
       "      <td>506</td>\n",
       "      <td>500</td>\n",
       "    </tr>\n",
       "    <tr>\n",
       "      <th>9</th>\n",
       "      <td>VA</td>\n",
       "      <td>68</td>\n",
       "      <td>510</td>\n",
       "      <td>501</td>\n",
       "    </tr>\n",
       "  </tbody>\n",
       "</table>\n",
       "</div>"
      ],
      "text/plain": [
       "  State  Rate  Verbal  Math\n",
       "0    CT    82     509   510\n",
       "1    NJ    81     499   513\n",
       "2    MA    79     511   515\n",
       "3    NY    77     495   505\n",
       "4    NH    72     520   516\n",
       "5    RI    71     501   499\n",
       "6    PA    71     500   499\n",
       "7    VT    69     511   506\n",
       "8    ME    69     506   500\n",
       "9    VA    68     510   501"
      ]
     },
     "execution_count": 7,
     "metadata": {},
     "output_type": "execute_result"
    }
   ],
   "source": [
    "# printing the first 10 rows of the DataFrame\n",
    "df.head(10)\n",
    "\n",
    "# The data appears to be the SAT grades per state in Mathematics and Verbal, with a ranking on States.\n",
    "\n",
    "\n",
    "\n"
   ]
  },
  {
   "cell_type": "markdown",
   "metadata": {},
   "source": [
    "<img src=\"http://imgur.com/l5NasQj.png\" style=\"float: left; margin: 25px 15px 0px 0px; height: 25px\">\n",
    "\n",
    "## 2. Create a \"data dictionary\" based on the data\n",
    "\n",
    "---\n",
    "\n",
    "A data dictionary is an object that describes your data. This should contain the name of each variable (column), the type of the variable, your description of what the variable is, and the shape (rows and columns) of the entire dataset."
   ]
  },
  {
   "cell_type": "markdown",
   "metadata": {
    "collapsed": true
   },
   "source": [
    "Variable | Type | Description | Shape\n",
    "--- | --- | --- | ---\n",
    "State | object | US state | (52,1)\n",
    "--- | --- | --- | ---\n",
    "Rate | int64 | US state ranking depending on avg student scores | (52,1)\n",
    "--- | --- | --- | ---\n",
    "Verbal | int64 | grade in subject \"Verbal\" | (52,1)\n",
    "--- | --- | --- | ---\n",
    "Math | int64 | grade in subject \"Math\" | (52,1)\n",
    "--- | --- | --- | ---"
   ]
  },
  {
   "cell_type": "markdown",
   "metadata": {},
   "source": [
    "<img src=\"http://imgur.com/l5NasQj.png\" style=\"float: left; margin: 25px 15px 0px 0px; height: 25px\">\n",
    "\n",
    "## 3. Plot the data using seaborn\n",
    "\n",
    "---\n",
    "\n",
    "### 3.1 Using seaborn's `distplot`, plot the distributions for each of `Rate`, `Math`, and `Verbal`\n",
    "\n",
    "Set the keyword argument `kde=False`. This way you can actually see the counts within bins. You can adjust the number of bins to your liking. \n",
    "\n",
    "[Please read over the `distplot` documentation to learn about the arguments and fine-tune your chart if you want.](https://stanford.edu/~mwaskom/software/seaborn/generated/seaborn.distplot.html#seaborn.distplot)"
   ]
  },
  {
   "cell_type": "code",
   "execution_count": 8,
   "metadata": {
    "collapsed": false
   },
   "outputs": [
    {
     "data": {
      "image/png": "[encoded data removed]",
      "text/plain": [
       "<matplotlib.figure.Figure at 0x114bac590>"
      ]
     },
     "metadata": {
      "image/png": {
       "height": 380,
       "width": 517
      }
     },
     "output_type": "display_data"
    }
   ],
   "source": [
    "rate_plot = sns.distplot(df['Rate'],bins = 10 ,kde=False)\n"
   ]
  },
  {
   "cell_type": "code",
   "execution_count": 9,
   "metadata": {
    "collapsed": false
   },
   "outputs": [
    {
     "data": {
      "image/png": "[encoded data removed]",
      "text/plain": [
       "<matplotlib.figure.Figure at 0x1044cda10>"
      ]
     },
     "metadata": {
      "image/png": {
       "height": 380,
       "width": 521
      }
     },
     "output_type": "display_data"
    }
   ],
   "source": [
    "Math_plot = sns.distplot(df['Math'],bins = 10 ,kde=False)"
   ]
  },
  {
   "cell_type": "code",
   "execution_count": 10,
   "metadata": {
    "collapsed": false
   },
   "outputs": [
    {
     "data": {
      "image/png": "[encoded data removed]",
      "text/plain": [
       "<matplotlib.figure.Figure at 0x117dbde90>"
      ]
     },
     "metadata": {
      "image/png": {
       "height": 380,
       "width": 513
      }
     },
     "output_type": "display_data"
    }
   ],
   "source": [
    "Verbal = sns.distplot(df['Verbal'],bins = 10 ,kde=False)"
   ]
  },
  {
   "cell_type": "markdown",
   "metadata": {},
   "source": [
    "### 3.2 Using seaborn's `pairplot`, show the joint distributions for each of `Rate`, `Math`, and `Verbal`\n",
    "\n",
    "Explain what the visualization tells you about your data.\n",
    "\n",
    "[Please read over the `pairplot` documentation to fine-tune your chart.](https://stanford.edu/~mwaskom/software/seaborn/generated/seaborn.pairplot.html#seaborn.pairplot)"
   ]
  },
  {
   "cell_type": "code",
   "execution_count": 11,
   "metadata": {
    "collapsed": false
   },
   "outputs": [
    {
     "data": {
      "text/plain": [
       "<seaborn.axisgrid.PairGrid at 0x11839b190>"
      ]
     },
     "execution_count": 11,
     "metadata": {},
     "output_type": "execute_result"
    },
    {
     "data": {
      "image/png": "[encoded data removed]",
      "text/plain": [
       "<matplotlib.figure.Figure at 0x11839b210>"
      ]
     },
     "metadata": {
      "image/png": {
       "height": 741,
       "width": 746
      }
     },
     "output_type": "display_data"
    }
   ],
   "source": [
    "sns.pairplot(df)\n",
    "\n",
    "#There seems to be a high correlation betweens grades in Math and Verbal.\n",
    "#Rates are negatively correlated to both subjects."
   ]
  },
  {
   "cell_type": "markdown",
   "metadata": {},
   "source": [
    "<img src=\"http://imgur.com/l5NasQj.png\" style=\"float: left; margin: 25px 15px 0px 0px; height: 25px\">\n",
    "\n",
    "## 4. Plot the data using built-in pandas functions.\n",
    "\n",
    "---\n",
    "\n",
    "Pandas is very powerful and contains a variety of nice, built in plotting functions for your data. Read the documentation here to overview and understand the capabilities:\n",
    "\n",
    "http://pandas.pydata.org/pandas-docs/stable/visualization.html\n",
    "\n",
    "### 4.1 Plot a stacked histogram with `Verbal` and `Math` using pandas"
   ]
  },
  {
   "cell_type": "code",
   "execution_count": 12,
   "metadata": {
    "collapsed": false
   },
   "outputs": [
    {
     "data": {
      "image/png": "[encoded data removed]",
      "text/plain": [
       "<matplotlib.figure.Figure at 0x11839b910>"
      ]
     },
     "metadata": {
      "image/png": {
       "height": 359,
       "width": 543
      }
     },
     "output_type": "display_data"
    }
   ],
   "source": [
    "df[['Verbal','Math']].plot.hist(stacked=True);"
   ]
  },
  {
   "cell_type": "markdown",
   "metadata": {},
   "source": [
    "### 4.2 Plot `Verbal` and `Math` on the same chart using boxplots (pandas or seaborn)\n",
    "\n",
    "What are the benefits of using a boxplot as compared to a scatterplot or a histogram?\n",
    "\n",
    "What's wrong with plotting a box-plot of `Rate` on the same chart as `Math` and `Verbal`?"
   ]
  },
  {
   "cell_type": "code",
   "execution_count": 13,
   "metadata": {
    "collapsed": false
   },
   "outputs": [
    {
     "data": {
      "text/plain": [
       "<matplotlib.axes._subplots.AxesSubplot at 0x11a301d50>"
      ]
     },
     "execution_count": 13,
     "metadata": {},
     "output_type": "execute_result"
    },
    {
     "data": {
      "image/png": "[encoded data removed]",
      "text/plain": [
       "<matplotlib.figure.Figure at 0x11ad77690>"
      ]
     },
     "metadata": {
      "image/png": {
       "height": 359,
       "width": 517
      }
     },
     "output_type": "display_data"
    }
   ],
   "source": [
    "df[['Verbal','Math']].plot.box()\n",
    "\n",
    "# plotting a box-plot of Rate on the same chart would not make sense, as the range of values would be completely different. It would need a re-scaling."
   ]
  },
  {
   "cell_type": "markdown",
   "metadata": {},
   "source": [
    "<img src=\"http://imgur.com/xDpSobf.png\" style=\"float: left; margin: 25px 15px 0px 0px; height: 25px\">\n",
    "\n",
    "### 4.3 Plot `Verbal`, `Math`, and `Rate` appropriately on the same boxplot chart (pandas or seaborn)\n",
    "\n",
    "Think about how you might change the variables so that they would make sense on the same chart. Explain your rationale for the choices on the chart. You should strive to make the chart as intuitive as possible. \n"
   ]
  },
  {
   "cell_type": "code",
   "execution_count": 14,
   "metadata": {
    "collapsed": false
   },
   "outputs": [
    {
     "data": {
      "text/plain": [
       "<matplotlib.axes._subplots.AxesSubplot at 0x11ae67c10>"
      ]
     },
     "execution_count": 14,
     "metadata": {},
     "output_type": "execute_result"
    },
    {
     "data": {
      "image/png": "[encoded data removed]",
      "text/plain": [
       "<matplotlib.figure.Figure at 0x11ae71150>"
      ]
     },
     "metadata": {
      "image/png": {
       "height": 359,
       "width": 510
      }
     },
     "output_type": "display_data"
    }
   ],
   "source": [
    "df_normed = (df[['Rate', 'Verbal','Math']] - df[['Rate', 'Verbal','Math']].mean()) /df[['Rate', 'Verbal','Math']].std()\n",
    "df_normed.plot.box()\n",
    "\n"
   ]
  },
  {
   "cell_type": "markdown",
   "metadata": {},
   "source": [
    "<img src=\"http://imgur.com/l5NasQj.png\" style=\"float: left; margin: 25px 15px 0px 0px; height: 25px\">\n",
    "\n",
    "## 5. Create and examine subsets of the data\n",
    "\n",
    "---\n",
    "\n",
    "For these questions you will practice **masking** in pandas. Recall that masking uses conditional statements to select portions of your DataFrame (through boolean operations under the hood.)\n",
    "\n",
    "Remember the distinction between DataFrame indexing functions in pandas:\n",
    "\n",
    "    .iloc[row, col] : row and column are specified by index, which are integers\n",
    "    .loc[row, col]  : row and column are specified by string \"labels\" (boolean arrays are allowed; useful for rows)\n",
    "    .ix[row, col]   : row and column indexers can be a mix of labels and integer indices\n",
    "    \n",
    "For detailed reference and tutorial make sure to read over the pandas documentation:\n",
    "\n",
    "http://pandas.pydata.org/pandas-docs/stable/indexing.html\n",
    "\n",
    "\n",
    "\n",
    "### 5.1 Find the list of states that have `Verbal` scores greater than the average of `Verbal` scores across states\n",
    "\n",
    "How many states are above the mean? What does this tell you about the distribution of `Verbal` scores?\n",
    "\n"
   ]
  },
  {
   "cell_type": "code",
   "execution_count": 23,
   "metadata": {
    "collapsed": false
   },
   "outputs": [
    {
     "name": "stdout",
     "output_type": "stream",
     "text": [
      "Verbal mean = 532.019230769\n",
      "Here is the table displaying the states with Verbal scores greater than the average: \n",
      "   State  Rate  Verbal  Math\n",
      "26    CO    31     539   542\n",
      "27    OH    26     534   439\n",
      "28    MT    23     539   539\n",
      "30    ID    17     543   542\n",
      "31    TN    13     562   553\n",
      "32    NM    13     551   542\n",
      "33    IL    12     576   589\n",
      "34    KY    12     550   550\n",
      "35    WY    11     547   545\n",
      "36    MI    11     561   572\n",
      "37    MN     9     580   589\n",
      "38    KS     9     577   580\n",
      "39    AL     9     559   554\n",
      "40    NE     8     562   568\n",
      "41    OK     8     567   561\n",
      "42    MO     8     577   577\n",
      "43    LA     7     564   562\n",
      "44    WI     6     584   596\n",
      "45    AR     6     562   550\n",
      "46    UT     5     575   570\n",
      "47    IA     5     593   603\n",
      "48    SD     4     577   582\n",
      "49    ND     4     592   599\n",
      "50    MS     4     566   551\n",
      "Here is the list of states with Verbal scores greater than the average: \n",
      "len(df3) =  24\n"
     ]
    }
   ],
   "source": [
    "df.head()\n",
    "\n",
    "print \"Verbal mean =\",df['Verbal'].mean()\n",
    "\n",
    "df_states_over_avg_verbal = df[df['Verbal'] > df['Verbal'].mean()]\n",
    "print \"Here is the table displaying the states with Verbal scores greater than the average: \"\n",
    "print df_states_over_avg_verbal\n",
    "\n",
    "print \"Here is the list of states with Verbal scores greater than the average: \"\n",
    "df3 = df_states_over_avg_verbal['State'].tolist()\n",
    "df3\n",
    "\n",
    "print \"len(df3) = \",len(df3)\n"
   ]
  },
  {
   "cell_type": "markdown",
   "metadata": {},
   "source": [
    "\n",
    "### 5.2 Find the list of states that have `Verbal` scores greater than the median of `Verbal` scores across states\n",
    "\n",
    "How does this compare to the list of states greater than the mean of `Verbal` scores? Why?"
   ]
  },
  {
   "cell_type": "code",
   "execution_count": 30,
   "metadata": {
    "collapsed": false
   },
   "outputs": [
    {
     "name": "stdout",
     "output_type": "stream",
     "text": [
      "median of Verbal scores across states is =  526.5\n",
      "Here is the list of states that have Verbal scores greater than the median :  19    WA\n",
      "26    CO\n",
      "27    OH\n",
      "28    MT\n",
      "29    WV\n",
      "30    ID\n",
      "31    TN\n",
      "32    NM\n",
      "33    IL\n",
      "34    KY\n",
      "35    WY\n",
      "36    MI\n",
      "37    MN\n",
      "38    KS\n",
      "39    AL\n",
      "40    NE\n",
      "41    OK\n",
      "42    MO\n",
      "43    LA\n",
      "44    WI\n",
      "45    AR\n",
      "46    UT\n",
      "47    IA\n",
      "48    SD\n",
      "49    ND\n",
      "50    MS\n",
      "Name: State, dtype: object\n",
      "len list =  26\n"
     ]
    },
    {
     "data": {
      "image/png": "[encoded data removed]",
      "text/plain": [
       "<matplotlib.figure.Figure at 0x11d1bd3d0>"
      ]
     },
     "metadata": {
      "image/png": {
       "height": 380,
       "width": 668
      }
     },
     "output_type": "display_data"
    }
   ],
   "source": [
    "df.head()\n",
    "print \"median of Verbal scores across states is = \", df['Verbal'].median()\n",
    "df_states_over_median_verbal = df[df['Verbal'] > df['Verbal'].median()]\n",
    "print'Here is the list of states that have Verbal scores greater than the median : ',df_states_over_median_verbal.State\n",
    "print 'len list = ', len(df_states_over_median_verbal.State)\n",
    "\n",
    "# let's plot the distribution of the variable Verbal:\n",
    "fig = plt.figure(figsize=(8,4))\n",
    "ax = fig.gca()\n",
    "\n",
    "ax = sns.distplot(df['Verbal'], bins=30, kde=False)\n",
    "\n",
    "\n",
    "ax.axvline(x=np.mean(df['Verbal']), lw = 2, color = 'darkblue') \n",
    "ax.axvline(x=np.median(df['Verbal']), lw = 2, color = 'deeppink') \n",
    "plt.show()\n",
    "\n",
    "# After plotting, we can see that the distribution has nearly no skew, meaning that median an mean are nearly the same\n",
    "# mean is in darkblue, and median in pink\n",
    "# this is why we have very similar results for the 2 last questions."
   ]
  },
  {
   "cell_type": "markdown",
   "metadata": {},
   "source": [
    "### 5.3 Create a column that is the difference between the `Verbal` and `Math` scores\n",
    "\n",
    "Specifically, this should be `Verbal - Math`."
   ]
  },
  {
   "cell_type": "code",
   "execution_count": 17,
   "metadata": {
    "collapsed": false
   },
   "outputs": [
    {
     "data": {
      "text/html": [
       "<div>\n",
       "<table border=\"1\" class=\"dataframe\">\n",
       "  <thead>\n",
       "    <tr style=\"text-align: right;\">\n",
       "      <th></th>\n",
       "      <th>State</th>\n",
       "      <th>Rate</th>\n",
       "      <th>Verbal</th>\n",
       "      <th>Math</th>\n",
       "      <th>Verbal - Math</th>\n",
       "    </tr>\n",
       "  </thead>\n",
       "  <tbody>\n",
       "    <tr>\n",
       "      <th>0</th>\n",
       "      <td>CT</td>\n",
       "      <td>82</td>\n",
       "      <td>509</td>\n",
       "      <td>510</td>\n",
       "      <td>-1</td>\n",
       "    </tr>\n",
       "    <tr>\n",
       "      <th>1</th>\n",
       "      <td>NJ</td>\n",
       "      <td>81</td>\n",
       "      <td>499</td>\n",
       "      <td>513</td>\n",
       "      <td>-14</td>\n",
       "    </tr>\n",
       "    <tr>\n",
       "      <th>2</th>\n",
       "      <td>MA</td>\n",
       "      <td>79</td>\n",
       "      <td>511</td>\n",
       "      <td>515</td>\n",
       "      <td>-4</td>\n",
       "    </tr>\n",
       "    <tr>\n",
       "      <th>3</th>\n",
       "      <td>NY</td>\n",
       "      <td>77</td>\n",
       "      <td>495</td>\n",
       "      <td>505</td>\n",
       "      <td>-10</td>\n",
       "    </tr>\n",
       "    <tr>\n",
       "      <th>4</th>\n",
       "      <td>NH</td>\n",
       "      <td>72</td>\n",
       "      <td>520</td>\n",
       "      <td>516</td>\n",
       "      <td>4</td>\n",
       "    </tr>\n",
       "  </tbody>\n",
       "</table>\n",
       "</div>"
      ],
      "text/plain": [
       "  State  Rate  Verbal  Math  Verbal - Math\n",
       "0    CT    82     509   510             -1\n",
       "1    NJ    81     499   513            -14\n",
       "2    MA    79     511   515             -4\n",
       "3    NY    77     495   505            -10\n",
       "4    NH    72     520   516              4"
      ]
     },
     "execution_count": 17,
     "metadata": {},
     "output_type": "execute_result"
    }
   ],
   "source": [
    "df['Verbal - Math'] = df.Verbal - df.Math\n",
    "df.head()"
   ]
  },
  {
   "cell_type": "markdown",
   "metadata": {},
   "source": [
    "### 5.4 Create two new DataFrames showing states with the greatest difference between scores\n",
    "\n",
    "1. Your first DataFrame should be the 10 states with the greatest gap between `Verbal` and `Math` scores where `Verbal` is greater than `Math`. It should be sorted appropriately to show the ranking of states.\n",
    "2. Your second DataFrame will be the inverse: states with the greatest gap between `Verbal` and `Math` such that `Math` is greater than `Verbal`. Again, this should be sorted appropriately to show rank.\n",
    "3. Print the header of both variables, only showing the top 3 states in each."
   ]
  },
  {
   "cell_type": "code",
   "execution_count": 18,
   "metadata": {
    "collapsed": false
   },
   "outputs": [
    {
     "name": "stdout",
     "output_type": "stream",
     "text": [
      "\n",
      "Top 3 States with the highest Verbal - Math difference are the following : \n",
      "\n",
      "      State  Verbal - Math\n",
      "index                     \n",
      "1        OH             95\n",
      "2        MS             15\n",
      "3        WV             15\n",
      "\n",
      "\n",
      "Top 3 States with the highest Math - Verbal difference are the following : \n",
      "\n",
      "      State  Math - Verbal\n",
      "index                     \n",
      "1        HI             30\n",
      "2        CA             19\n",
      "3        NJ             14\n"
     ]
    },
    {
     "name": "stderr",
     "output_type": "stream",
     "text": [
      "/Users/medhimugnier/anaconda/envs/dsi/lib/python2.7/site-packages/ipykernel/__main__.py:3: FutureWarning: sort(columns=....) is deprecated, use sort_values(by=.....)\n",
      "  app.launch_new_instance()\n",
      "/Users/medhimugnier/anaconda/envs/dsi/lib/python2.7/site-packages/ipykernel/__main__.py:13: FutureWarning: sort(columns=....) is deprecated, use sort_values(by=.....)\n"
     ]
    }
   ],
   "source": [
    "#1. States with max of Verbal - Math\n",
    "\n",
    "df_sorted_by_verbal_minus_math = df.sort('Verbal - Math',ascending = False)[['State','Verbal - Math']][:10]\n",
    "df_sorted_by_verbal_minus_math['index'] = np.arange(1,len(df_sorted_by_verbal_minus_math)+1)\n",
    "df_sorted_by_verbal_minus_math.set_index(['index'],drop = True,inplace = True)\n",
    "\n",
    "print \"\\nTop 3 States with the highest Verbal - Math difference are the following : \\n\\n\",df_sorted_by_verbal_minus_math[:3]\n",
    "\n",
    "\n",
    "\n",
    "\n",
    "#2. States with min of Verbal - Math\n",
    "df_sorted_by_math_minus_verbal = df.sort('Verbal - Math', ascending = True)[['State','Verbal - Math']][:10]\n",
    "\n",
    "df_sorted_by_math_minus_verbal['index'] = np.arange(1,len(df_sorted_by_math_minus_verbal)+1)\n",
    "df_sorted_by_math_minus_verbal.set_index(['index'],drop = True, inplace = True)\n",
    "\n",
    "# Let's create a new column, that is Verbal - Math\n",
    "df_verbal_minus_math = df_sorted_by_math_minus_verbal#+ df_verbal_minus_math['Math - Verbal']\n",
    "df_verbal_minus_math['Math - Verbal'] = - df_sorted_by_math_minus_verbal['Verbal - Math']\n",
    "\n",
    "df_verbal_minus_math = df_verbal_minus_math.drop('Verbal - Math', 1)\n",
    "print '\\n\\nTop 3 States with the highest Math - Verbal difference are the following : \\n\\n',df_verbal_minus_math[:3]\n",
    "\n",
    "\n",
    "\n",
    "    \n",
    "\n"
   ]
  },
  {
   "cell_type": "markdown",
   "metadata": {},
   "source": [
    "<img src=\"http://imgur.com/l5NasQj.png\" style=\"float: left; margin: 25px 15px 0px 0px; height: 25px\">\n",
    "\n",
    "## 6. Examine summary statistics\n",
    "\n",
    "---\n",
    "\n",
    "Checking the summary statistics for data is an essential step in the EDA process!\n",
    "\n",
    "### 6.1 Create the correlation matrix of your variables (excluding `State`).\n",
    "\n",
    "What does the correlation matrix tell you?\n"
   ]
  },
  {
   "cell_type": "code",
   "execution_count": 19,
   "metadata": {
    "collapsed": false
   },
   "outputs": [
    {
     "data": {
      "text/html": [
       "<div>\n",
       "<table border=\"1\" class=\"dataframe\">\n",
       "  <thead>\n",
       "    <tr style=\"text-align: right;\">\n",
       "      <th></th>\n",
       "      <th>State</th>\n",
       "      <th>Rate</th>\n",
       "      <th>Verbal</th>\n",
       "      <th>Math</th>\n",
       "      <th>Verbal - Math</th>\n",
       "    </tr>\n",
       "  </thead>\n",
       "  <tbody>\n",
       "    <tr>\n",
       "      <th>0</th>\n",
       "      <td>CT</td>\n",
       "      <td>82</td>\n",
       "      <td>509</td>\n",
       "      <td>510</td>\n",
       "      <td>-1</td>\n",
       "    </tr>\n",
       "    <tr>\n",
       "      <th>1</th>\n",
       "      <td>NJ</td>\n",
       "      <td>81</td>\n",
       "      <td>499</td>\n",
       "      <td>513</td>\n",
       "      <td>-14</td>\n",
       "    </tr>\n",
       "    <tr>\n",
       "      <th>2</th>\n",
       "      <td>MA</td>\n",
       "      <td>79</td>\n",
       "      <td>511</td>\n",
       "      <td>515</td>\n",
       "      <td>-4</td>\n",
       "    </tr>\n",
       "    <tr>\n",
       "      <th>3</th>\n",
       "      <td>NY</td>\n",
       "      <td>77</td>\n",
       "      <td>495</td>\n",
       "      <td>505</td>\n",
       "      <td>-10</td>\n",
       "    </tr>\n",
       "    <tr>\n",
       "      <th>4</th>\n",
       "      <td>NH</td>\n",
       "      <td>72</td>\n",
       "      <td>520</td>\n",
       "      <td>516</td>\n",
       "      <td>4</td>\n",
       "    </tr>\n",
       "  </tbody>\n",
       "</table>\n",
       "</div>"
      ],
      "text/plain": [
       "  State  Rate  Verbal  Math  Verbal - Math\n",
       "0    CT    82     509   510             -1\n",
       "1    NJ    81     499   513            -14\n",
       "2    MA    79     511   515             -4\n",
       "3    NY    77     495   505            -10\n",
       "4    NH    72     520   516              4"
      ]
     },
     "execution_count": 19,
     "metadata": {},
     "output_type": "execute_result"
    }
   ],
   "source": [
    "df.head()"
   ]
  },
  {
   "cell_type": "code",
   "execution_count": 20,
   "metadata": {
    "collapsed": false,
    "scrolled": true
   },
   "outputs": [
    {
     "data": {
      "text/html": [
       "<div>\n",
       "<table border=\"1\" class=\"dataframe\">\n",
       "  <thead>\n",
       "    <tr style=\"text-align: right;\">\n",
       "      <th></th>\n",
       "      <th>Rate</th>\n",
       "      <th>Verbal</th>\n",
       "      <th>Math</th>\n",
       "      <th>Verbal - Math</th>\n",
       "    </tr>\n",
       "  </thead>\n",
       "  <tbody>\n",
       "    <tr>\n",
       "      <th>Rate</th>\n",
       "      <td>1.000000</td>\n",
       "      <td>-0.886432</td>\n",
       "      <td>-0.773746</td>\n",
       "      <td>-0.101412</td>\n",
       "    </tr>\n",
       "    <tr>\n",
       "      <th>Verbal</th>\n",
       "      <td>-0.886432</td>\n",
       "      <td>1.000000</td>\n",
       "      <td>0.899871</td>\n",
       "      <td>0.052600</td>\n",
       "    </tr>\n",
       "    <tr>\n",
       "      <th>Math</th>\n",
       "      <td>-0.773746</td>\n",
       "      <td>0.899871</td>\n",
       "      <td>1.000000</td>\n",
       "      <td>-0.388219</td>\n",
       "    </tr>\n",
       "    <tr>\n",
       "      <th>Verbal - Math</th>\n",
       "      <td>-0.101412</td>\n",
       "      <td>0.052600</td>\n",
       "      <td>-0.388219</td>\n",
       "      <td>1.000000</td>\n",
       "    </tr>\n",
       "  </tbody>\n",
       "</table>\n",
       "</div>"
      ],
      "text/plain": [
       "                   Rate    Verbal      Math  Verbal - Math\n",
       "Rate           1.000000 -0.886432 -0.773746      -0.101412\n",
       "Verbal        -0.886432  1.000000  0.899871       0.052600\n",
       "Math          -0.773746  0.899871  1.000000      -0.388219\n",
       "Verbal - Math -0.101412  0.052600 -0.388219       1.000000"
      ]
     },
     "execution_count": 20,
     "metadata": {},
     "output_type": "execute_result"
    }
   ],
   "source": [
    "df[['Rate','Verbal','Math','Verbal - Math']].corr(method='pearson') "
   ]
  },
  {
   "cell_type": "code",
   "execution_count": 21,
   "metadata": {
    "collapsed": true
   },
   "outputs": [],
   "source": [
    "# The correlation matrix shows that:\n",
    "    # scores in Verbal and Math are highly correlated (meaning states often get approximately equal grades in Verbal and Math)\n",
    "    # rates are negatively strongly correlated with both subjects, meaning that the higher is the rate, the lower will be the grades, and vice-versa. "
   ]
  },
  {
   "cell_type": "markdown",
   "metadata": {},
   "source": [
    "### 6.2 Use pandas'  `.describe()` built-in function on your DataFrame\n",
    "\n",
    "Write up what each of the rows returned by the function indicate."
   ]
  },
  {
   "cell_type": "code",
   "execution_count": 22,
   "metadata": {
    "collapsed": false,
    "scrolled": true
   },
   "outputs": [
    {
     "data": {
      "text/html": [
       "<div>\n",
       "<table border=\"1\" class=\"dataframe\">\n",
       "  <thead>\n",
       "    <tr style=\"text-align: right;\">\n",
       "      <th></th>\n",
       "      <th>Rate</th>\n",
       "      <th>Verbal</th>\n",
       "      <th>Math</th>\n",
       "      <th>Verbal - Math</th>\n",
       "    </tr>\n",
       "  </thead>\n",
       "  <tbody>\n",
       "    <tr>\n",
       "      <th>count</th>\n",
       "      <td>52.000000</td>\n",
       "      <td>52.000000</td>\n",
       "      <td>52.000000</td>\n",
       "      <td>52.000000</td>\n",
       "    </tr>\n",
       "    <tr>\n",
       "      <th>mean</th>\n",
       "      <td>37.153846</td>\n",
       "      <td>532.019231</td>\n",
       "      <td>531.500000</td>\n",
       "      <td>0.519231</td>\n",
       "    </tr>\n",
       "    <tr>\n",
       "      <th>std</th>\n",
       "      <td>27.301788</td>\n",
       "      <td>33.236225</td>\n",
       "      <td>36.014975</td>\n",
       "      <td>15.729939</td>\n",
       "    </tr>\n",
       "    <tr>\n",
       "      <th>min</th>\n",
       "      <td>4.000000</td>\n",
       "      <td>482.000000</td>\n",
       "      <td>439.000000</td>\n",
       "      <td>-30.000000</td>\n",
       "    </tr>\n",
       "    <tr>\n",
       "      <th>25%</th>\n",
       "      <td>9.000000</td>\n",
       "      <td>501.000000</td>\n",
       "      <td>504.000000</td>\n",
       "      <td>-6.000000</td>\n",
       "    </tr>\n",
       "    <tr>\n",
       "      <th>50%</th>\n",
       "      <td>33.500000</td>\n",
       "      <td>526.500000</td>\n",
       "      <td>521.000000</td>\n",
       "      <td>0.000000</td>\n",
       "    </tr>\n",
       "    <tr>\n",
       "      <th>75%</th>\n",
       "      <td>63.500000</td>\n",
       "      <td>562.000000</td>\n",
       "      <td>555.750000</td>\n",
       "      <td>4.250000</td>\n",
       "    </tr>\n",
       "    <tr>\n",
       "      <th>max</th>\n",
       "      <td>82.000000</td>\n",
       "      <td>593.000000</td>\n",
       "      <td>603.000000</td>\n",
       "      <td>95.000000</td>\n",
       "    </tr>\n",
       "  </tbody>\n",
       "</table>\n",
       "</div>"
      ],
      "text/plain": [
       "            Rate      Verbal        Math  Verbal - Math\n",
       "count  52.000000   52.000000   52.000000      52.000000\n",
       "mean   37.153846  532.019231  531.500000       0.519231\n",
       "std    27.301788   33.236225   36.014975      15.729939\n",
       "min     4.000000  482.000000  439.000000     -30.000000\n",
       "25%     9.000000  501.000000  504.000000      -6.000000\n",
       "50%    33.500000  526.500000  521.000000       0.000000\n",
       "75%    63.500000  562.000000  555.750000       4.250000\n",
       "max    82.000000  593.000000  603.000000      95.000000"
      ]
     },
     "execution_count": 22,
     "metadata": {},
     "output_type": "execute_result"
    }
   ],
   "source": [
    "df.describe()"
   ]
  },
  {
   "cell_type": "code",
   "execution_count": 23,
   "metadata": {
    "collapsed": true
   },
   "outputs": [],
   "source": [
    "# 'count' describes the number of values found for each series. Here, they're equal to the number of rows = 52.\n",
    "# 'mean' returns the average of all the values in the series. Verbal and Math are surprinsingly equal.\n",
    "# 'std' quantifies the dispersion of all the recorded values. For instance, we have a wider array of data for Math scores than Verbal ones.\n",
    "# 'min' is the minimum for all values contained in the given series. e.g. 482 is the minimal score that you can find accross the different states for the Verbal subject.\n",
    "# '25%' is the first quartile. For the column Math, the 25% value is 504, meaning that 25% of the scores registered in Math are below 504.\n",
    "# '50%' is the same concept.\n",
    "# '75%' is the same concept.\n",
    "# 'max' is the maximum for all values contained in the given series. e.g. 593 is the minimal score that you can find accross the different states for the Verbal subject."
   ]
  },
  {
   "cell_type": "markdown",
   "metadata": {},
   "source": [
    "<img src=\"http://imgur.com/xDpSobf.png\" style=\"float: left; margin: 25px 15px 0px 0px; height: 25px\">\n",
    "\n",
    "### 6.3 Assign and print the _covariance_ matrix for the dataset\n",
    "\n",
    "1. Describe how the covariance matrix is different from the correlation matrix.\n",
    "2. What is the process to convert the covariance into the correlation?\n",
    "3. Why is the correlation matrix preferred to the covariance matrix for examining relationships in your data?"
   ]
  },
  {
   "cell_type": "code",
   "execution_count": 31,
   "metadata": {
    "collapsed": false
   },
   "outputs": [
    {
     "data": {
      "text/html": [
       "<div>\n",
       "<table border=\"1\" class=\"dataframe\">\n",
       "  <thead>\n",
       "    <tr style=\"text-align: right;\">\n",
       "      <th></th>\n",
       "      <th>Rate</th>\n",
       "      <th>Verbal</th>\n",
       "      <th>Math</th>\n",
       "    </tr>\n",
       "  </thead>\n",
       "  <tbody>\n",
       "    <tr>\n",
       "      <th>Rate</th>\n",
       "      <td>745.387632</td>\n",
       "      <td>-804.355958</td>\n",
       "      <td>-760.803922</td>\n",
       "    </tr>\n",
       "    <tr>\n",
       "      <th>Verbal</th>\n",
       "      <td>-804.355958</td>\n",
       "      <td>1104.646682</td>\n",
       "      <td>1077.147059</td>\n",
       "    </tr>\n",
       "    <tr>\n",
       "      <th>Math</th>\n",
       "      <td>-760.803922</td>\n",
       "      <td>1077.147059</td>\n",
       "      <td>1297.078431</td>\n",
       "    </tr>\n",
       "  </tbody>\n",
       "</table>\n",
       "</div>"
      ],
      "text/plain": [
       "              Rate       Verbal         Math\n",
       "Rate    745.387632  -804.355958  -760.803922\n",
       "Verbal -804.355958  1104.646682  1077.147059\n",
       "Math   -760.803922  1077.147059  1297.078431"
      ]
     },
     "execution_count": 31,
     "metadata": {},
     "output_type": "execute_result"
    }
   ],
   "source": [
    "df.cov()"
   ]
  },
  {
   "cell_type": "markdown",
   "metadata": {},
   "source": [
    "<img src=\"http://imgur.com/l5NasQj.png\" style=\"float: left; margin: 25px 15px 0px 0px; height: 25px\">\n",
    "\n",
    "## 7. Load Iowa Liquor Sales dataset\n",
    "\n",
    "---\n",
    "\n",
    "The state of Iowa provides many data sets on their website, including [this dataset](https://www.dropbox.com/sh/pf5n5sgfgiri3i8/AACkaMeL_i_WgZ00rpxOOcysa?dl=0) which contains transactions for all stores that have a class E liquor license. You can choose one of the following two scenarios.\n",
    "\n",
    "The data can also be found [directly on their website](https://data.iowa.gov/Economy/Iowa-Liquor-Sales/m3tr-qhgy), which allows you to explore it graphically and download it (though it doesn't work very well).\n",
    "\n",
    "NOTE: Some of you may have computer issues with the full dataset. In this case, feel free to use [this 10% dataset version of Iowa liquor sales](https://drive.google.com/file/d/0Bx2SHQGVqWaseDB4QU9ZSVFDY2M/view?usp=sharing). You may want to use it anyway to test and prototype your code since it will be faster, before running it on the full dataset.\n"
   ]
  },
  {
   "cell_type": "code",
   "execution_count": 41,
   "metadata": {
    "collapsed": true
   },
   "outputs": [],
   "source": [
    "iowa_file = '/Users/medhimugnier/Desktop/DSI-SF-4/datasets/iowa_liquor/Iowa_Liquor_sales_sample_10pct.csv'"
   ]
  },
  {
   "cell_type": "markdown",
   "metadata": {},
   "source": [
    "<img src=\"http://imgur.com/l5NasQj.png\" style=\"float: left; margin: 25px 15px 0px 0px; height: 25px\">\n",
    "\n",
    "### 7.1 Do an initial overview of the data\n",
    "\n",
    "---\n",
    "\n",
    "At the very least describe the columns/variables and the datatypes. "
   ]
  },
  {
   "cell_type": "code",
   "execution_count": 42,
   "metadata": {
    "collapsed": false,
    "scrolled": true
   },
   "outputs": [
    {
     "data": {
      "text/html": [
       "<div>\n",
       "<table border=\"1\" class=\"dataframe\">\n",
       "  <thead>\n",
       "    <tr style=\"text-align: right;\">\n",
       "      <th></th>\n",
       "      <th>Date</th>\n",
       "      <th>Store Number</th>\n",
       "      <th>City</th>\n",
       "      <th>Zip Code</th>\n",
       "      <th>County Number</th>\n",
       "      <th>County</th>\n",
       "      <th>Category</th>\n",
       "      <th>Category Name</th>\n",
       "      <th>Vendor Number</th>\n",
       "      <th>Item Number</th>\n",
       "      <th>Item Description</th>\n",
       "      <th>Bottle Volume (ml)</th>\n",
       "      <th>State Bottle Cost</th>\n",
       "      <th>State Bottle Retail</th>\n",
       "      <th>Bottles Sold</th>\n",
       "      <th>Sale (Dollars)</th>\n",
       "      <th>Volume Sold (Liters)</th>\n",
       "      <th>Volume Sold (Gallons)</th>\n",
       "    </tr>\n",
       "  </thead>\n",
       "  <tbody>\n",
       "    <tr>\n",
       "      <th>0</th>\n",
       "      <td>11/04/2015</td>\n",
       "      <td>3717</td>\n",
       "      <td>SUMNER</td>\n",
       "      <td>50674</td>\n",
       "      <td>9.0</td>\n",
       "      <td>Bremer</td>\n",
       "      <td>1051100.0</td>\n",
       "      <td>APRICOT BRANDIES</td>\n",
       "      <td>55</td>\n",
       "      <td>54436</td>\n",
       "      <td>Mr. Boston Apricot Brandy</td>\n",
       "      <td>750</td>\n",
       "      <td>$4.50</td>\n",
       "      <td>$6.75</td>\n",
       "      <td>12</td>\n",
       "      <td>$81.00</td>\n",
       "      <td>9.0</td>\n",
       "      <td>2.38</td>\n",
       "    </tr>\n",
       "    <tr>\n",
       "      <th>1</th>\n",
       "      <td>03/02/2016</td>\n",
       "      <td>2614</td>\n",
       "      <td>DAVENPORT</td>\n",
       "      <td>52807</td>\n",
       "      <td>82.0</td>\n",
       "      <td>Scott</td>\n",
       "      <td>1011100.0</td>\n",
       "      <td>BLENDED WHISKIES</td>\n",
       "      <td>395</td>\n",
       "      <td>27605</td>\n",
       "      <td>Tin Cup</td>\n",
       "      <td>750</td>\n",
       "      <td>$13.75</td>\n",
       "      <td>$20.63</td>\n",
       "      <td>2</td>\n",
       "      <td>$41.26</td>\n",
       "      <td>1.5</td>\n",
       "      <td>0.40</td>\n",
       "    </tr>\n",
       "    <tr>\n",
       "      <th>2</th>\n",
       "      <td>02/11/2016</td>\n",
       "      <td>2106</td>\n",
       "      <td>CEDAR FALLS</td>\n",
       "      <td>50613</td>\n",
       "      <td>7.0</td>\n",
       "      <td>Black Hawk</td>\n",
       "      <td>1011200.0</td>\n",
       "      <td>STRAIGHT BOURBON WHISKIES</td>\n",
       "      <td>65</td>\n",
       "      <td>19067</td>\n",
       "      <td>Jim Beam</td>\n",
       "      <td>1000</td>\n",
       "      <td>$12.59</td>\n",
       "      <td>$18.89</td>\n",
       "      <td>24</td>\n",
       "      <td>$453.36</td>\n",
       "      <td>24.0</td>\n",
       "      <td>6.34</td>\n",
       "    </tr>\n",
       "    <tr>\n",
       "      <th>3</th>\n",
       "      <td>02/03/2016</td>\n",
       "      <td>2501</td>\n",
       "      <td>AMES</td>\n",
       "      <td>50010</td>\n",
       "      <td>85.0</td>\n",
       "      <td>Story</td>\n",
       "      <td>1071100.0</td>\n",
       "      <td>AMERICAN COCKTAILS</td>\n",
       "      <td>395</td>\n",
       "      <td>59154</td>\n",
       "      <td>1800 Ultimate Margarita</td>\n",
       "      <td>1750</td>\n",
       "      <td>$9.50</td>\n",
       "      <td>$14.25</td>\n",
       "      <td>6</td>\n",
       "      <td>$85.50</td>\n",
       "      <td>10.5</td>\n",
       "      <td>2.77</td>\n",
       "    </tr>\n",
       "    <tr>\n",
       "      <th>4</th>\n",
       "      <td>08/18/2015</td>\n",
       "      <td>3654</td>\n",
       "      <td>BELMOND</td>\n",
       "      <td>50421</td>\n",
       "      <td>99.0</td>\n",
       "      <td>Wright</td>\n",
       "      <td>1031080.0</td>\n",
       "      <td>VODKA 80 PROOF</td>\n",
       "      <td>297</td>\n",
       "      <td>35918</td>\n",
       "      <td>Five O'clock Vodka</td>\n",
       "      <td>1750</td>\n",
       "      <td>$7.20</td>\n",
       "      <td>$10.80</td>\n",
       "      <td>12</td>\n",
       "      <td>$129.60</td>\n",
       "      <td>21.0</td>\n",
       "      <td>5.55</td>\n",
       "    </tr>\n",
       "  </tbody>\n",
       "</table>\n",
       "</div>"
      ],
      "text/plain": [
       "         Date  Store Number         City Zip Code  County Number      County  \\\n",
       "0  11/04/2015          3717       SUMNER    50674            9.0      Bremer   \n",
       "1  03/02/2016          2614    DAVENPORT    52807           82.0       Scott   \n",
       "2  02/11/2016          2106  CEDAR FALLS    50613            7.0  Black Hawk   \n",
       "3  02/03/2016          2501         AMES    50010           85.0       Story   \n",
       "4  08/18/2015          3654      BELMOND    50421           99.0      Wright   \n",
       "\n",
       "    Category              Category Name  Vendor Number  Item Number  \\\n",
       "0  1051100.0           APRICOT BRANDIES             55        54436   \n",
       "1  1011100.0           BLENDED WHISKIES            395        27605   \n",
       "2  1011200.0  STRAIGHT BOURBON WHISKIES             65        19067   \n",
       "3  1071100.0         AMERICAN COCKTAILS            395        59154   \n",
       "4  1031080.0             VODKA 80 PROOF            297        35918   \n",
       "\n",
       "            Item Description  Bottle Volume (ml) State Bottle Cost  \\\n",
       "0  Mr. Boston Apricot Brandy                 750             $4.50   \n",
       "1                    Tin Cup                 750            $13.75   \n",
       "2                   Jim Beam                1000            $12.59   \n",
       "3    1800 Ultimate Margarita                1750             $9.50   \n",
       "4         Five O'clock Vodka                1750             $7.20   \n",
       "\n",
       "  State Bottle Retail  Bottles Sold Sale (Dollars)  Volume Sold (Liters)  \\\n",
       "0               $6.75            12         $81.00                   9.0   \n",
       "1              $20.63             2         $41.26                   1.5   \n",
       "2              $18.89            24        $453.36                  24.0   \n",
       "3              $14.25             6         $85.50                  10.5   \n",
       "4              $10.80            12        $129.60                  21.0   \n",
       "\n",
       "   Volume Sold (Gallons)  \n",
       "0                   2.38  \n",
       "1                   0.40  \n",
       "2                   6.34  \n",
       "3                   2.77  \n",
       "4                   5.55  "
      ]
     },
     "execution_count": 42,
     "metadata": {},
     "output_type": "execute_result"
    }
   ],
   "source": [
    "df_l = pd.read_csv(iowa_file)\n",
    "df_l.head()"
   ]
  },
  {
   "cell_type": "code",
   "execution_count": 26,
   "metadata": {
    "collapsed": false,
    "scrolled": false
   },
   "outputs": [
    {
     "name": "stdout",
     "output_type": "stream",
     "text": [
      "<class 'pandas.core.frame.DataFrame'>\n",
      "RangeIndex: 270955 entries, 0 to 270954\n",
      "Data columns (total 18 columns):\n",
      "Date                     270955 non-null object\n",
      "Store Number             270955 non-null int64\n",
      "City                     270955 non-null object\n",
      "Zip Code                 270955 non-null object\n",
      "County Number            269878 non-null float64\n",
      "County                   269878 non-null object\n",
      "Category                 270887 non-null float64\n",
      "Category Name            270323 non-null object\n",
      "Vendor Number            270955 non-null int64\n",
      "Item Number              270955 non-null int64\n",
      "Item Description         270955 non-null object\n",
      "Bottle Volume (ml)       270955 non-null int64\n",
      "State Bottle Cost        270955 non-null object\n",
      "State Bottle Retail      270955 non-null object\n",
      "Bottles Sold             270955 non-null int64\n",
      "Sale (Dollars)           270955 non-null object\n",
      "Volume Sold (Liters)     270955 non-null float64\n",
      "Volume Sold (Gallons)    270955 non-null float64\n",
      "dtypes: float64(4), int64(5), object(9)\n",
      "memory usage: 37.2+ MB\n"
     ]
    }
   ],
   "source": [
    "df_l.info()\n",
    "\n",
    "##Here is the description of the different datatypes included in the series:"
   ]
  },
  {
   "cell_type": "code",
   "execution_count": 27,
   "metadata": {
    "collapsed": false
   },
   "outputs": [
    {
     "data": {
      "text/plain": [
       "(270955, 18)"
      ]
     },
     "execution_count": 27,
     "metadata": {},
     "output_type": "execute_result"
    }
   ],
   "source": [
    "df_l.shape"
   ]
  },
  {
   "cell_type": "code",
   "execution_count": 28,
   "metadata": {
    "collapsed": false
   },
   "outputs": [
    {
     "data": {
      "text/plain": [
       "2633    2485\n",
       "4829    2300\n",
       "2512    1758\n",
       "2572    1652\n",
       "2190    1626\n",
       "Name: Store Number, dtype: int64"
      ]
     },
     "execution_count": 28,
     "metadata": {},
     "output_type": "execute_result"
    }
   ],
   "source": [
    "df_l['Store Number'].value_counts().head()\n",
    "# As shown below, each row does not represent a store's sales."
   ]
  },
  {
   "cell_type": "code",
   "execution_count": 29,
   "metadata": {
    "collapsed": false
   },
   "outputs": [
    {
     "data": {
      "text/plain": [
       "260    46829\n",
       "434    27090\n",
       "65     25578\n",
       "370    16932\n",
       "115    15924\n",
       "Name: Vendor Number, dtype: int64"
      ]
     },
     "execution_count": 29,
     "metadata": {},
     "output_type": "execute_result"
    }
   ],
   "source": [
    "df_l['Vendor Number'].value_counts().head()\n",
    "# Same here, there is not one row per Vendor either."
   ]
  },
  {
   "cell_type": "code",
   "execution_count": 30,
   "metadata": {
    "collapsed": false,
    "scrolled": true
   },
   "outputs": [
    {
     "data": {
      "text/plain": [
       "dtype('O')"
      ]
     },
     "execution_count": 30,
     "metadata": {},
     "output_type": "execute_result"
    }
   ],
   "source": [
    "\n",
    "#fig, ax = plt.subplots(1,1,figsize= (12,6))\n",
    "\n",
    "#ax.hist(df_l['Date'].head(), alpha=0.4)\n",
    "#plt.show()\n",
    "df_l['Date'].dtype\n",
    "\n"
   ]
  },
  {
   "cell_type": "code",
   "execution_count": 31,
   "metadata": {
    "collapsed": false
   },
   "outputs": [
    {
     "data": {
      "text/html": [
       "<div>\n",
       "<table border=\"1\" class=\"dataframe\">\n",
       "  <thead>\n",
       "    <tr style=\"text-align: right;\">\n",
       "      <th></th>\n",
       "      <th>Date</th>\n",
       "      <th>Store Number</th>\n",
       "      <th>City</th>\n",
       "      <th>Zip Code</th>\n",
       "      <th>County Number</th>\n",
       "      <th>County</th>\n",
       "      <th>Category</th>\n",
       "      <th>Category Name</th>\n",
       "      <th>Vendor Number</th>\n",
       "      <th>Item Number</th>\n",
       "      <th>Item Description</th>\n",
       "      <th>Bottle Volume (ml)</th>\n",
       "      <th>State Bottle Cost</th>\n",
       "      <th>State Bottle Retail</th>\n",
       "      <th>Bottles Sold</th>\n",
       "      <th>Sale (Dollars)</th>\n",
       "      <th>Volume Sold (Liters)</th>\n",
       "      <th>Volume Sold (Gallons)</th>\n",
       "    </tr>\n",
       "  </thead>\n",
       "  <tbody>\n",
       "    <tr>\n",
       "      <th>0</th>\n",
       "      <td>11/04/2015</td>\n",
       "      <td>3717</td>\n",
       "      <td>SUMNER</td>\n",
       "      <td>50674</td>\n",
       "      <td>9.0</td>\n",
       "      <td>Bremer</td>\n",
       "      <td>1051100.0</td>\n",
       "      <td>APRICOT BRANDIES</td>\n",
       "      <td>55</td>\n",
       "      <td>54436</td>\n",
       "      <td>Mr. Boston Apricot Brandy</td>\n",
       "      <td>750</td>\n",
       "      <td>$4.50</td>\n",
       "      <td>$6.75</td>\n",
       "      <td>12</td>\n",
       "      <td>$81.00</td>\n",
       "      <td>9.0</td>\n",
       "      <td>2.38</td>\n",
       "    </tr>\n",
       "    <tr>\n",
       "      <th>1</th>\n",
       "      <td>03/02/2016</td>\n",
       "      <td>2614</td>\n",
       "      <td>DAVENPORT</td>\n",
       "      <td>52807</td>\n",
       "      <td>82.0</td>\n",
       "      <td>Scott</td>\n",
       "      <td>1011100.0</td>\n",
       "      <td>BLENDED WHISKIES</td>\n",
       "      <td>395</td>\n",
       "      <td>27605</td>\n",
       "      <td>Tin Cup</td>\n",
       "      <td>750</td>\n",
       "      <td>$13.75</td>\n",
       "      <td>$20.63</td>\n",
       "      <td>2</td>\n",
       "      <td>$41.26</td>\n",
       "      <td>1.5</td>\n",
       "      <td>0.40</td>\n",
       "    </tr>\n",
       "    <tr>\n",
       "      <th>2</th>\n",
       "      <td>02/11/2016</td>\n",
       "      <td>2106</td>\n",
       "      <td>CEDAR FALLS</td>\n",
       "      <td>50613</td>\n",
       "      <td>7.0</td>\n",
       "      <td>Black Hawk</td>\n",
       "      <td>1011200.0</td>\n",
       "      <td>STRAIGHT BOURBON WHISKIES</td>\n",
       "      <td>65</td>\n",
       "      <td>19067</td>\n",
       "      <td>Jim Beam</td>\n",
       "      <td>1000</td>\n",
       "      <td>$12.59</td>\n",
       "      <td>$18.89</td>\n",
       "      <td>24</td>\n",
       "      <td>$453.36</td>\n",
       "      <td>24.0</td>\n",
       "      <td>6.34</td>\n",
       "    </tr>\n",
       "    <tr>\n",
       "      <th>3</th>\n",
       "      <td>02/03/2016</td>\n",
       "      <td>2501</td>\n",
       "      <td>AMES</td>\n",
       "      <td>50010</td>\n",
       "      <td>85.0</td>\n",
       "      <td>Story</td>\n",
       "      <td>1071100.0</td>\n",
       "      <td>AMERICAN COCKTAILS</td>\n",
       "      <td>395</td>\n",
       "      <td>59154</td>\n",
       "      <td>1800 Ultimate Margarita</td>\n",
       "      <td>1750</td>\n",
       "      <td>$9.50</td>\n",
       "      <td>$14.25</td>\n",
       "      <td>6</td>\n",
       "      <td>$85.50</td>\n",
       "      <td>10.5</td>\n",
       "      <td>2.77</td>\n",
       "    </tr>\n",
       "    <tr>\n",
       "      <th>4</th>\n",
       "      <td>08/18/2015</td>\n",
       "      <td>3654</td>\n",
       "      <td>BELMOND</td>\n",
       "      <td>50421</td>\n",
       "      <td>99.0</td>\n",
       "      <td>Wright</td>\n",
       "      <td>1031080.0</td>\n",
       "      <td>VODKA 80 PROOF</td>\n",
       "      <td>297</td>\n",
       "      <td>35918</td>\n",
       "      <td>Five O'clock Vodka</td>\n",
       "      <td>1750</td>\n",
       "      <td>$7.20</td>\n",
       "      <td>$10.80</td>\n",
       "      <td>12</td>\n",
       "      <td>$129.60</td>\n",
       "      <td>21.0</td>\n",
       "      <td>5.55</td>\n",
       "    </tr>\n",
       "  </tbody>\n",
       "</table>\n",
       "</div>"
      ],
      "text/plain": [
       "         Date  Store Number         City Zip Code  County Number      County  \\\n",
       "0  11/04/2015          3717       SUMNER    50674            9.0      Bremer   \n",
       "1  03/02/2016          2614    DAVENPORT    52807           82.0       Scott   \n",
       "2  02/11/2016          2106  CEDAR FALLS    50613            7.0  Black Hawk   \n",
       "3  02/03/2016          2501         AMES    50010           85.0       Story   \n",
       "4  08/18/2015          3654      BELMOND    50421           99.0      Wright   \n",
       "\n",
       "    Category              Category Name  Vendor Number  Item Number  \\\n",
       "0  1051100.0           APRICOT BRANDIES             55        54436   \n",
       "1  1011100.0           BLENDED WHISKIES            395        27605   \n",
       "2  1011200.0  STRAIGHT BOURBON WHISKIES             65        19067   \n",
       "3  1071100.0         AMERICAN COCKTAILS            395        59154   \n",
       "4  1031080.0             VODKA 80 PROOF            297        35918   \n",
       "\n",
       "            Item Description  Bottle Volume (ml) State Bottle Cost  \\\n",
       "0  Mr. Boston Apricot Brandy                 750             $4.50   \n",
       "1                    Tin Cup                 750            $13.75   \n",
       "2                   Jim Beam                1000            $12.59   \n",
       "3    1800 Ultimate Margarita                1750             $9.50   \n",
       "4         Five O'clock Vodka                1750             $7.20   \n",
       "\n",
       "  State Bottle Retail  Bottles Sold Sale (Dollars)  Volume Sold (Liters)  \\\n",
       "0               $6.75            12         $81.00                   9.0   \n",
       "1              $20.63             2         $41.26                   1.5   \n",
       "2              $18.89            24        $453.36                  24.0   \n",
       "3              $14.25             6         $85.50                  10.5   \n",
       "4              $10.80            12        $129.60                  21.0   \n",
       "\n",
       "   Volume Sold (Gallons)  \n",
       "0                   2.38  \n",
       "1                   0.40  \n",
       "2                   6.34  \n",
       "3                   2.77  \n",
       "4                   5.55  "
      ]
     },
     "execution_count": 31,
     "metadata": {},
     "output_type": "execute_result"
    }
   ],
   "source": [
    "df_l.head()"
   ]
  },
  {
   "cell_type": "code",
   "execution_count": 32,
   "metadata": {
    "collapsed": false
   },
   "outputs": [
    {
     "data": {
      "text/plain": [
       "      Date        Store Number  Item Number\n",
       "City  01/04/2016  2190          15606          1.0\n",
       "                                18348          1.0\n",
       "                                22786          1.0\n",
       "                                25603          1.0\n",
       "                                26586          1.0\n",
       "dtype: float64"
      ]
     },
     "execution_count": 32,
     "metadata": {},
     "output_type": "execute_result"
    }
   ],
   "source": [
    "pivot = pd.pivot_table(data = df_l, columns = ['Date','Store Number','Item Number'] ,aggfunc = len)\n",
    "pivot.head()"
   ]
  },
  {
   "cell_type": "code",
   "execution_count": null,
   "metadata": {
    "collapsed": false
   },
   "outputs": [],
   "source": []
  },
  {
   "cell_type": "code",
   "execution_count": 33,
   "metadata": {
    "collapsed": true
   },
   "outputs": [],
   "source": [
    "##### This dataframe is composed of 270,955 rows and 18 columns.\n",
    "# Columns give information about the stores, the vendors, the type of alcohol and the volumes sold.\n",
    "# Each row represents the quantity of a certain alcohol sold by a given bar at a given date.\n",
    "\n",
    "\n",
    "\n",
    "\n"
   ]
  },
  {
   "cell_type": "markdown",
   "metadata": {},
   "source": [
    "<img src=\"http://imgur.com/l5NasQj.png\" style=\"float: left; margin: 25px 15px 0px 0px; height: 25px\">\n",
    "\n",
    "## 8. Clean the liquor dataset\n",
    "\n",
    "---\n",
    "\n",
    "### 8.1 Identify columns that you will need to convert and clean. Where and how is the data corrupted?\n",
    "\n",
    "Don't worry about converting the date column to a pandas/numpy \"datetime\" datatype, unless you want to (not required for these problems and is a challenging thing to work with in its own right.)"
   ]
  },
  {
   "cell_type": "code",
   "execution_count": 34,
   "metadata": {
    "collapsed": false
   },
   "outputs": [
    {
     "name": "stdout",
     "output_type": "stream",
     "text": [
      "<class 'pandas.core.frame.DataFrame'>\n",
      "RangeIndex: 270955 entries, 0 to 270954\n",
      "Data columns (total 18 columns):\n",
      "Date                     270955 non-null object\n",
      "Store Number             270955 non-null int64\n",
      "City                     270955 non-null object\n",
      "Zip Code                 270955 non-null object\n",
      "County Number            269878 non-null float64\n",
      "County                   269878 non-null object\n",
      "Category                 270887 non-null float64\n",
      "Category Name            270323 non-null object\n",
      "Vendor Number            270955 non-null int64\n",
      "Item Number              270955 non-null int64\n",
      "Item Description         270955 non-null object\n",
      "Bottle Volume (ml)       270955 non-null int64\n",
      "State Bottle Cost        270955 non-null object\n",
      "State Bottle Retail      270955 non-null object\n",
      "Bottles Sold             270955 non-null int64\n",
      "Sale (Dollars)           270955 non-null object\n",
      "Volume Sold (Liters)     270955 non-null float64\n",
      "Volume Sold (Gallons)    270955 non-null float64\n",
      "dtypes: float64(4), int64(5), object(9)\n",
      "memory usage: 37.2+ MB\n"
     ]
    }
   ],
   "source": [
    "df_l.info()"
   ]
  },
  {
   "cell_type": "code",
   "execution_count": 35,
   "metadata": {
    "collapsed": true
   },
   "outputs": [],
   "source": [
    "# Column Names look explicit, we do not have to worry about replacing them.\n",
    "# Let's check the unique values for each column, then replace if necessary.\n"
   ]
  },
  {
   "cell_type": "code",
   "execution_count": 36,
   "metadata": {
    "collapsed": false,
    "scrolled": true
   },
   "outputs": [
    {
     "data": {
      "text/plain": [
       "2633    2485\n",
       "4829    2300\n",
       "2512    1758\n",
       "2572    1652\n",
       "2190    1626\n",
       "2515    1565\n",
       "2501    1553\n",
       "2500    1521\n",
       "2670    1506\n",
       "2587    1481\n",
       "2648    1445\n",
       "2620    1438\n",
       "2603    1407\n",
       "2590    1356\n",
       "2629    1335\n",
       "2666    1319\n",
       "2614    1306\n",
       "2565    1303\n",
       "2647    1297\n",
       "2616    1288\n",
       "2619    1261\n",
       "2561    1250\n",
       "4129    1247\n",
       "2623    1235\n",
       "2552    1201\n",
       "2625    1183\n",
       "3773    1176\n",
       "2506    1174\n",
       "4167    1142\n",
       "3952    1140\n",
       "        ... \n",
       "5033       5\n",
       "4121       5\n",
       "5139       5\n",
       "4990       5\n",
       "5229       5\n",
       "5189       5\n",
       "5233       4\n",
       "4335       4\n",
       "5232       4\n",
       "4954       4\n",
       "4855       4\n",
       "5208       4\n",
       "4737       4\n",
       "5234       3\n",
       "5193       3\n",
       "5195       3\n",
       "5201       3\n",
       "5216       3\n",
       "4834       3\n",
       "5223       3\n",
       "4939       3\n",
       "5192       2\n",
       "5130       2\n",
       "5218       2\n",
       "4776       2\n",
       "4567       2\n",
       "4778       2\n",
       "5053       1\n",
       "9023       1\n",
       "9018       1\n",
       "Name: Store Number, dtype: int64"
      ]
     },
     "execution_count": 36,
     "metadata": {},
     "output_type": "execute_result"
    }
   ],
   "source": [
    "df_l['Store Number'].value_counts()\n",
    "# data-type = int64. Looks fine."
   ]
  },
  {
   "cell_type": "code",
   "execution_count": 37,
   "metadata": {
    "collapsed": false,
    "scrolled": true
   },
   "outputs": [
    {
     "data": {
      "text/plain": [
       "DES MOINES         23724\n",
       "CEDAR RAPIDS       18888\n",
       "DAVENPORT          11580\n",
       "WATERLOO            8425\n",
       "COUNCIL BLUFFS      8060\n",
       "SIOUX CITY          7992\n",
       "IOWA CITY           7951\n",
       "AMES                7548\n",
       "WEST DES MOINES     7162\n",
       "DUBUQUE             6915\n",
       "CEDAR FALLS         5735\n",
       "ANKENY              4836\n",
       "MASON CITY          4191\n",
       "BETTENDORF          3709\n",
       "CORALVILLE          3490\n",
       "MUSCATINE           3397\n",
       "BURLINGTON          3144\n",
       "CLINTON             3111\n",
       "FORT DODGE          2989\n",
       "WINDSOR HEIGHTS     2811\n",
       "MARSHALLTOWN        2694\n",
       "NEWTON              2544\n",
       "STORM LAKE          2533\n",
       "MARION              2489\n",
       "URBANDALE           2438\n",
       "OTTUMWA             2295\n",
       "JOHNSTON            2141\n",
       "ALTOONA             2113\n",
       "CLEAR LAKE          2083\n",
       "SPENCER             1910\n",
       "                   ...  \n",
       "BUSSEY                16\n",
       "SCHALLER              15\n",
       "DANVILLE              15\n",
       "GOLDFIELD             15\n",
       "VAN METER             15\n",
       "WASHBURN              15\n",
       "WALL LAKE             14\n",
       "ALTA                  14\n",
       "DOWS                  13\n",
       "SULLY                 12\n",
       "AFTON                 12\n",
       "DELHI                 11\n",
       "LOVILIA               11\n",
       "AURELIA               11\n",
       "MERRILL               10\n",
       "LATIMER                9\n",
       "MINDEN                 9\n",
       "STANWOOD               9\n",
       "EVERLY                 7\n",
       "Cumming                6\n",
       "SEYMOUR                6\n",
       "MELBOURNE              6\n",
       "FONDA                  6\n",
       "GILBERTVILLE           6\n",
       "GRISWOLD               5\n",
       "RUNNELLS               3\n",
       "TABOR                  3\n",
       "LOHRVILLE              3\n",
       "ROBINS                 2\n",
       "Carroll                1\n",
       "Name: City, dtype: int64"
      ]
     },
     "execution_count": 37,
     "metadata": {},
     "output_type": "execute_result"
    }
   ],
   "source": [
    "df_l['City'].value_counts()\n",
    "# data-type = Object. Let's find out why."
   ]
  },
  {
   "cell_type": "code",
   "execution_count": 38,
   "metadata": {
    "collapsed": true
   },
   "outputs": [
    {
     "name": "stdout",
     "output_type": "stream",
     "text": [
      "cities that are not upper 2862         Dubuque\n",
      "2940       Northwood\n",
      "3339         Dubuque\n",
      "4012       Northwood\n",
      "4333       Northwood\n",
      "5340         Dubuque\n",
      "6639       Urbandale\n",
      "7101      Des Moines\n",
      "9244      Des Moines\n",
      "10464      Northwood\n",
      "11119     Des Moines\n",
      "11342         Inwood\n",
      "14198         Inwood\n",
      "14667      Urbandale\n",
      "14751        Dubuque\n",
      "15774      Northwood\n",
      "16935      Urbandale\n",
      "16969         Inwood\n",
      "19043        Dubuque\n",
      "19362      Northwood\n",
      "20042      Northwood\n",
      "20739     Des Moines\n",
      "21325      Northwood\n",
      "21353      Northwood\n",
      "21577      Northwood\n",
      "22662         Inwood\n",
      "23027      Northwood\n",
      "23168        Dubuque\n",
      "24079        Dubuque\n",
      "24189      Northwood\n",
      "             ...    \n",
      "252905     Urbandale\n",
      "253490     Northwood\n",
      "253758    Des Moines\n",
      "254221    Des Moines\n",
      "254328     Northwood\n",
      "254764       Dubuque\n",
      "255504     Northwood\n",
      "256401    Des Moines\n",
      "256563    Des Moines\n",
      "256939       Dubuque\n",
      "257129     Northwood\n",
      "257430     Northwood\n",
      "258415    Des Moines\n",
      "258772    Des Moines\n",
      "259055     Northwood\n",
      "260629        Inwood\n",
      "261389       Dubuque\n",
      "261955     Urbandale\n",
      "264163       Dubuque\n",
      "265243     Northwood\n",
      "265847     Northwood\n",
      "266357       Dubuque\n",
      "266597     Northwood\n",
      "266680     Northwood\n",
      "267545    Des Moines\n",
      "267791     Northwood\n",
      "269740       Dubuque\n",
      "269790     Northwood\n",
      "270509     Northwood\n",
      "270758     Urbandale\n",
      "Name: City, dtype: object\n"
     ]
    },
    {
     "data": {
      "text/html": [
       "<div>\n",
       "<table border=\"1\" class=\"dataframe\">\n",
       "  <thead>\n",
       "    <tr style=\"text-align: right;\">\n",
       "      <th></th>\n",
       "      <th>Date</th>\n",
       "      <th>Store Number</th>\n",
       "      <th>City</th>\n",
       "      <th>Zip Code</th>\n",
       "      <th>County Number</th>\n",
       "      <th>County</th>\n",
       "      <th>Category</th>\n",
       "      <th>Category Name</th>\n",
       "      <th>Vendor Number</th>\n",
       "      <th>Item Number</th>\n",
       "      <th>Item Description</th>\n",
       "      <th>Bottle Volume (ml)</th>\n",
       "      <th>State Bottle Cost</th>\n",
       "      <th>State Bottle Retail</th>\n",
       "      <th>Bottles Sold</th>\n",
       "      <th>Sale (Dollars)</th>\n",
       "      <th>Volume Sold (Liters)</th>\n",
       "      <th>Volume Sold (Gallons)</th>\n",
       "    </tr>\n",
       "  </thead>\n",
       "  <tbody>\n",
       "  </tbody>\n",
       "</table>\n",
       "</div>"
      ],
      "text/plain": [
       "Empty DataFrame\n",
       "Columns: [Date, Store Number, City, Zip Code, County Number, County, Category, Category Name, Vendor Number, Item Number, Item Description, Bottle Volume (ml), State Bottle Cost, State Bottle Retail, Bottles Sold, Sale (Dollars), Volume Sold (Liters), Volume Sold (Gallons)]\n",
       "Index: []"
      ]
     },
     "execution_count": 38,
     "metadata": {},
     "output_type": "execute_result"
    }
   ],
   "source": [
    "df_l[df_l.City == 'Carroll']\n",
    "# 'Carroll' is a city from Iowa state.\n",
    "# Let's uppercase the string, to give it the same appearance as the other cities.\n",
    "\n",
    "df_l.City.replace('Carroll','CARROLL',inplace = True)\n",
    "df_l.City.value_counts()\n",
    "\n",
    "# Let's check if all cities are in uppercase, and replace them when they're not.\n",
    "city_is_not_upper = df_l['City'] [df_l['City'].str.isupper() == False]\n",
    "print \"cities that are not upper\",city_is_not_upper\n",
    "\n",
    "# Let's convert all of them uppercased:\n",
    "df_l.City = df_l.City.str.upper()\n",
    "df_l[df_l.City.str.isupper()].shape\n",
    "# It seems that all cities are uppercased now.\n",
    "\n",
    "# Is there any null value?\n",
    "df_l[df_l.City.isnull() == True]\n",
    "## -> There is none, everything is fine for this series."
   ]
  },
  {
   "cell_type": "code",
   "execution_count": 52,
   "metadata": {
    "collapsed": false,
    "scrolled": true
   },
   "outputs": [
    {
     "data": {
      "text/html": [
       "<div>\n",
       "<table border=\"1\" class=\"dataframe\">\n",
       "  <thead>\n",
       "    <tr style=\"text-align: right;\">\n",
       "      <th></th>\n",
       "      <th>Date</th>\n",
       "      <th>Store Number</th>\n",
       "      <th>City</th>\n",
       "      <th>Zip Code</th>\n",
       "      <th>County Number</th>\n",
       "      <th>County</th>\n",
       "      <th>Category</th>\n",
       "      <th>Category Name</th>\n",
       "      <th>Vendor Number</th>\n",
       "      <th>Item Number</th>\n",
       "      <th>Item Description</th>\n",
       "      <th>Bottle Volume (ml)</th>\n",
       "      <th>State Bottle Cost</th>\n",
       "      <th>State Bottle Retail</th>\n",
       "      <th>Bottles Sold</th>\n",
       "      <th>Sale (Dollars)</th>\n",
       "      <th>Volume Sold (Liters)</th>\n",
       "      <th>Volume Sold (Gallons)</th>\n",
       "    </tr>\n",
       "  </thead>\n",
       "  <tbody>\n",
       "    <tr>\n",
       "      <th>0</th>\n",
       "      <td>2015-11-04</td>\n",
       "      <td>3717</td>\n",
       "      <td>SUMNER</td>\n",
       "      <td>50674</td>\n",
       "      <td>9.0</td>\n",
       "      <td>Bremer</td>\n",
       "      <td>1051100.0</td>\n",
       "      <td>APRICOT BRANDIES</td>\n",
       "      <td>55</td>\n",
       "      <td>54436</td>\n",
       "      <td>Mr. Boston Apricot Brandy</td>\n",
       "      <td>750</td>\n",
       "      <td>4.50</td>\n",
       "      <td>6.75</td>\n",
       "      <td>12</td>\n",
       "      <td>81.00</td>\n",
       "      <td>9.0</td>\n",
       "      <td>2.38</td>\n",
       "    </tr>\n",
       "    <tr>\n",
       "      <th>1</th>\n",
       "      <td>2016-03-02</td>\n",
       "      <td>2614</td>\n",
       "      <td>DAVENPORT</td>\n",
       "      <td>52807</td>\n",
       "      <td>82.0</td>\n",
       "      <td>Scott</td>\n",
       "      <td>1011100.0</td>\n",
       "      <td>BLENDED WHISKIES</td>\n",
       "      <td>395</td>\n",
       "      <td>27605</td>\n",
       "      <td>Tin Cup</td>\n",
       "      <td>750</td>\n",
       "      <td>13.75</td>\n",
       "      <td>20.63</td>\n",
       "      <td>2</td>\n",
       "      <td>41.26</td>\n",
       "      <td>1.5</td>\n",
       "      <td>0.40</td>\n",
       "    </tr>\n",
       "    <tr>\n",
       "      <th>2</th>\n",
       "      <td>2016-02-11</td>\n",
       "      <td>2106</td>\n",
       "      <td>CEDAR FALLS</td>\n",
       "      <td>50613</td>\n",
       "      <td>7.0</td>\n",
       "      <td>Black Hawk</td>\n",
       "      <td>1011200.0</td>\n",
       "      <td>STRAIGHT BOURBON WHISKIES</td>\n",
       "      <td>65</td>\n",
       "      <td>19067</td>\n",
       "      <td>Jim Beam</td>\n",
       "      <td>1000</td>\n",
       "      <td>12.59</td>\n",
       "      <td>18.89</td>\n",
       "      <td>24</td>\n",
       "      <td>453.36</td>\n",
       "      <td>24.0</td>\n",
       "      <td>6.34</td>\n",
       "    </tr>\n",
       "    <tr>\n",
       "      <th>3</th>\n",
       "      <td>2016-02-03</td>\n",
       "      <td>2501</td>\n",
       "      <td>AMES</td>\n",
       "      <td>50010</td>\n",
       "      <td>85.0</td>\n",
       "      <td>Story</td>\n",
       "      <td>1071100.0</td>\n",
       "      <td>AMERICAN COCKTAILS</td>\n",
       "      <td>395</td>\n",
       "      <td>59154</td>\n",
       "      <td>1800 Ultimate Margarita</td>\n",
       "      <td>1750</td>\n",
       "      <td>9.50</td>\n",
       "      <td>14.25</td>\n",
       "      <td>6</td>\n",
       "      <td>85.50</td>\n",
       "      <td>10.5</td>\n",
       "      <td>2.77</td>\n",
       "    </tr>\n",
       "    <tr>\n",
       "      <th>4</th>\n",
       "      <td>2015-08-18</td>\n",
       "      <td>3654</td>\n",
       "      <td>BELMOND</td>\n",
       "      <td>50421</td>\n",
       "      <td>99.0</td>\n",
       "      <td>Wright</td>\n",
       "      <td>1031080.0</td>\n",
       "      <td>VODKA 80 PROOF</td>\n",
       "      <td>297</td>\n",
       "      <td>35918</td>\n",
       "      <td>Five O'clock Vodka</td>\n",
       "      <td>1750</td>\n",
       "      <td>7.20</td>\n",
       "      <td>10.80</td>\n",
       "      <td>12</td>\n",
       "      <td>129.60</td>\n",
       "      <td>21.0</td>\n",
       "      <td>5.55</td>\n",
       "    </tr>\n",
       "  </tbody>\n",
       "</table>\n",
       "</div>"
      ],
      "text/plain": [
       "        Date  Store Number         City Zip Code  County Number      County  \\\n",
       "0 2015-11-04          3717       SUMNER    50674            9.0      Bremer   \n",
       "1 2016-03-02          2614    DAVENPORT    52807           82.0       Scott   \n",
       "2 2016-02-11          2106  CEDAR FALLS    50613            7.0  Black Hawk   \n",
       "3 2016-02-03          2501         AMES    50010           85.0       Story   \n",
       "4 2015-08-18          3654      BELMOND    50421           99.0      Wright   \n",
       "\n",
       "    Category              Category Name  Vendor Number  Item Number  \\\n",
       "0  1051100.0           APRICOT BRANDIES             55        54436   \n",
       "1  1011100.0           BLENDED WHISKIES            395        27605   \n",
       "2  1011200.0  STRAIGHT BOURBON WHISKIES             65        19067   \n",
       "3  1071100.0         AMERICAN COCKTAILS            395        59154   \n",
       "4  1031080.0             VODKA 80 PROOF            297        35918   \n",
       "\n",
       "            Item Description  Bottle Volume (ml)  State Bottle Cost  \\\n",
       "0  Mr. Boston Apricot Brandy                 750               4.50   \n",
       "1                    Tin Cup                 750              13.75   \n",
       "2                   Jim Beam                1000              12.59   \n",
       "3    1800 Ultimate Margarita                1750               9.50   \n",
       "4         Five O'clock Vodka                1750               7.20   \n",
       "\n",
       "   State Bottle Retail  Bottles Sold  Sale (Dollars)  Volume Sold (Liters)  \\\n",
       "0                 6.75            12           81.00                   9.0   \n",
       "1                20.63             2           41.26                   1.5   \n",
       "2                18.89            24          453.36                  24.0   \n",
       "3                14.25             6           85.50                  10.5   \n",
       "4                10.80            12          129.60                  21.0   \n",
       "\n",
       "   Volume Sold (Gallons)  \n",
       "0                   2.38  \n",
       "1                   0.40  \n",
       "2                   6.34  \n",
       "3                   2.77  \n",
       "4                   5.55  "
      ]
     },
     "execution_count": 52,
     "metadata": {},
     "output_type": "execute_result"
    }
   ],
   "source": [
    "df_l.head()"
   ]
  },
  {
   "cell_type": "code",
   "execution_count": 39,
   "metadata": {
    "collapsed": false
   },
   "outputs": [
    {
     "name": "stdout",
     "output_type": "stream",
     "text": [
      "number of missing values in Zip Code :  0\n",
      "number of missing values in County Number :  1077\n",
      "number of missing values in County :  1077\n",
      "number of missing values in Category :  68\n",
      "number of missing values in 'Category Name' :  632\n",
      "number of missing values in 'Vendor Number' :  0\n",
      "number of missing values in 'Item Number' :  0\n",
      "number of missing values in 'Item Description' :  0\n",
      "number of missing values in 'Bottle Volume (ml)' :  0\n",
      "number of missing values in 'State Bottle Cost' :  0\n",
      "number of missing values in 'State Bottle Retail' :  0\n",
      "number of missing values in 'Bottles Sold' :  0\n",
      "number of missing values in 'Sale (Dollars)' :  0\n",
      "number of missing values in 'Volume Sold (Liters)' :  0\n",
      "number of missing values in 'Volume Sold (Gallons)' :  0\n"
     ]
    }
   ],
   "source": [
    "df_l['Zip Code'].value_counts()\n",
    "print \"number of missing values in Zip Code : \",df_l['Zip Code'].isnull().sum()\n",
    "# This series looks fine.\n",
    "\n",
    "df_l['County Number'].value_counts()\n",
    "print \"number of missing values in County Number : \",df_l['County Number'].isnull().sum()\n",
    "# This series looks fine.\n",
    "\n",
    "df_l['County'].value_counts()\n",
    "print \"number of missing values in County : \",df_l['County'].isnull().sum()\n",
    "\n",
    "df_l['Category'].value_counts()\n",
    "print \"number of missing values in Category : \",df_l['Category'].isnull().sum()\n",
    "\n",
    "df_l['Category Name'].value_counts()\n",
    "print \"number of missing values in 'Category Name' : \",df_l['Category Name'].isnull().sum()\n",
    "\n",
    "df_l['Vendor Number'].value_counts()\n",
    "print \"number of missing values in 'Vendor Number' : \",df_l['Vendor Number'].isnull().sum()\n",
    "\n",
    "df_l['Item Number'].value_counts()\n",
    "print \"number of missing values in 'Item Number' : \",df_l['Item Number'].isnull().sum()\n",
    "\n",
    "df_l['Item Description'].value_counts()\n",
    "print \"number of missing values in 'Item Description' : \",df_l['Item Description'].isnull().sum()\n",
    "\n",
    "df_l['Bottle Volume (ml)'].value_counts()\n",
    "print \"number of missing values in 'Bottle Volume (ml)' : \",df_l['Bottle Volume (ml)'].isnull().sum()\n",
    "\n",
    "df_l['State Bottle Cost'].value_counts()\n",
    "print \"number of missing values in 'State Bottle Cost' : \",df_l['State Bottle Cost'].isnull().sum()\n",
    "  \n",
    "df_l['State Bottle Retail'].value_counts()\n",
    "print \"number of missing values in 'State Bottle Retail' : \",df_l['State Bottle Retail'].isnull().sum()\n",
    "\n",
    "df_l['Bottles Sold'].value_counts()\n",
    "print \"number of missing values in 'Bottles Sold' : \",df_l['Bottles Sold'].isnull().sum()\n",
    "\n",
    "df_l['Sale (Dollars)'].value_counts()\n",
    "print \"number of missing values in 'Sale (Dollars)' : \",df_l['Sale (Dollars)'].isnull().sum()\n",
    "\n",
    "df_l['Volume Sold (Liters)'].value_counts()\n",
    "print \"number of missing values in 'Volume Sold (Liters)' : \",df_l['Volume Sold (Liters)'].isnull().sum()\n",
    "\n",
    "df_l['Volume Sold (Gallons)'].value_counts()\n",
    "print \"number of missing values in 'Volume Sold (Gallons)' : \",df_l['Volume Sold (Gallons)'].isnull().sum()\n",
    "\n",
    "\n",
    "\n",
    "\n",
    "\n",
    "\n",
    "\n",
    "#Volume Sold (Gallons)\n"
   ]
  },
  {
   "cell_type": "code",
   "execution_count": 40,
   "metadata": {
    "collapsed": false,
    "scrolled": true
   },
   "outputs": [
    {
     "data": {
      "text/html": [
       "<div>\n",
       "<table border=\"1\" class=\"dataframe\">\n",
       "  <thead>\n",
       "    <tr style=\"text-align: right;\">\n",
       "      <th></th>\n",
       "      <th>Date</th>\n",
       "      <th>City</th>\n",
       "      <th>Zip Code</th>\n",
       "      <th>County</th>\n",
       "      <th>Category Name</th>\n",
       "      <th>Item Description</th>\n",
       "    </tr>\n",
       "  </thead>\n",
       "  <tbody>\n",
       "    <tr>\n",
       "      <th>0</th>\n",
       "      <td>11/04/2015</td>\n",
       "      <td>SUMNER</td>\n",
       "      <td>50674</td>\n",
       "      <td>Bremer</td>\n",
       "      <td>APRICOT BRANDIES</td>\n",
       "      <td>Mr. Boston Apricot Brandy</td>\n",
       "    </tr>\n",
       "    <tr>\n",
       "      <th>1</th>\n",
       "      <td>03/02/2016</td>\n",
       "      <td>DAVENPORT</td>\n",
       "      <td>52807</td>\n",
       "      <td>Scott</td>\n",
       "      <td>BLENDED WHISKIES</td>\n",
       "      <td>Tin Cup</td>\n",
       "    </tr>\n",
       "    <tr>\n",
       "      <th>2</th>\n",
       "      <td>02/11/2016</td>\n",
       "      <td>CEDAR FALLS</td>\n",
       "      <td>50613</td>\n",
       "      <td>Black Hawk</td>\n",
       "      <td>STRAIGHT BOURBON WHISKIES</td>\n",
       "      <td>Jim Beam</td>\n",
       "    </tr>\n",
       "    <tr>\n",
       "      <th>3</th>\n",
       "      <td>02/03/2016</td>\n",
       "      <td>AMES</td>\n",
       "      <td>50010</td>\n",
       "      <td>Story</td>\n",
       "      <td>AMERICAN COCKTAILS</td>\n",
       "      <td>1800 Ultimate Margarita</td>\n",
       "    </tr>\n",
       "    <tr>\n",
       "      <th>4</th>\n",
       "      <td>08/18/2015</td>\n",
       "      <td>BELMOND</td>\n",
       "      <td>50421</td>\n",
       "      <td>Wright</td>\n",
       "      <td>VODKA 80 PROOF</td>\n",
       "      <td>Five O'clock Vodka</td>\n",
       "    </tr>\n",
       "  </tbody>\n",
       "</table>\n",
       "</div>"
      ],
      "text/plain": [
       "         Date         City Zip Code      County              Category Name  \\\n",
       "0  11/04/2015       SUMNER    50674      Bremer           APRICOT BRANDIES   \n",
       "1  03/02/2016    DAVENPORT    52807       Scott           BLENDED WHISKIES   \n",
       "2  02/11/2016  CEDAR FALLS    50613  Black Hawk  STRAIGHT BOURBON WHISKIES   \n",
       "3  02/03/2016         AMES    50010       Story         AMERICAN COCKTAILS   \n",
       "4  08/18/2015      BELMOND    50421      Wright             VODKA 80 PROOF   \n",
       "\n",
       "            Item Description  \n",
       "0  Mr. Boston Apricot Brandy  \n",
       "1                    Tin Cup  \n",
       "2                   Jim Beam  \n",
       "3    1800 Ultimate Margarita  \n",
       "4         Five O'clock Vodka  "
      ]
     },
     "execution_count": 40,
     "metadata": {},
     "output_type": "execute_result"
    }
   ],
   "source": [
    "# Let's convert 'State Bottle Cost\", \"State Bottle Retail\" and \"Sale (Dollars)\" to floats:\n",
    "    # First, let's remove the \"$\" sign:\n",
    "df_l['State Bottle Cost'] = df_l['State Bottle Cost'].str.replace(\"$\",\" \")\n",
    "df_l['State Bottle Retail'] = df_l['State Bottle Retail'].str.replace(\"$\",\" \")\n",
    "df_l['Sale (Dollars)'] = df_l['Sale (Dollars)'].str.replace(\"$\",\" \")\n",
    "\n",
    "    # Second, let's convert these values to floats\n",
    "df_l['State Bottle Cost'] = df_l['State Bottle Cost'].astype(float)\n",
    "df_l['State Bottle Retail'] = df_l['State Bottle Retail'].astype(float)\n",
    "df_l['Sale (Dollars)'] = df_l['Sale (Dollars)'].astype(float)\n",
    "\n",
    "# Now that we've transformed some series datatypes, let's check which ones are still objects:\n",
    "df_l.loc[:,df_l.dtypes == object].head()\n",
    "\n",
    "# -> It seems that we've cleaned every type of data.\n",
    "\n",
    "\n"
   ]
  },
  {
   "cell_type": "code",
   "execution_count": 50,
   "metadata": {
    "collapsed": false
   },
   "outputs": [
    {
     "data": {
      "text/plain": [
       "array([ 1022200.,  1052100.,  1082100.,  1032100.,  1091100.,  1062500.,\n",
       "        1091300.,  1082200.,  1062400.,  1011700.,  1092100.])"
      ]
     },
     "execution_count": 50,
     "metadata": {},
     "output_type": "execute_result"
    }
   ],
   "source": [
    "#df_l.head()\n",
    "#number of missing values in Category :  68\n",
    "#number of missing values in 'Category Name' :  632\n",
    "#--> Let's try to figure out if we can retrieve the missing Category Names from the Category column itself.\n",
    "\n",
    "#1. let's build the dataframe that has correspondances between the 2 columns:\n",
    "matching_categories = df_l[['Category', 'Category Name']][df_l['Category'].notnull() & df_l['Category Name'].notnull()]\n",
    "matching_categories\n",
    "\n",
    "#2. let's see which MISSING data we have in Category Name, that is NOT null in Category:\n",
    "missing_category_name = df_l['Category'][(df_l[\"Category Name\"].isnull()) & (df_l[\"Category\"].notnull())]\n",
    "unique_missing_category_name = missing_category_name.unique()\n",
    "unique_missing_category_name\n",
    "\n",
    "\n",
    "\n",
    "\n",
    "\n",
    "\n",
    "\n"
   ]
  },
  {
   "cell_type": "code",
   "execution_count": 54,
   "metadata": {
    "collapsed": false
   },
   "outputs": [
    {
     "name": "stdout",
     "output_type": "stream",
     "text": [
      "l =  [Empty DataFrame\n",
      "Columns: [Category, Category Name]\n",
      "Index: [], Empty DataFrame\n",
      "Columns: [Category, Category Name]\n",
      "Index: [], Empty DataFrame\n",
      "Columns: [Category, Category Name]\n",
      "Index: [], Empty DataFrame\n",
      "Columns: [Category, Category Name]\n",
      "Index: [], Empty DataFrame\n",
      "Columns: [Category, Category Name]\n",
      "Index: [], Empty DataFrame\n",
      "Columns: [Category, Category Name]\n",
      "Index: [], Empty DataFrame\n",
      "Columns: [Category, Category Name]\n",
      "Index: [], Empty DataFrame\n",
      "Columns: [Category, Category Name]\n",
      "Index: [], Empty DataFrame\n",
      "Columns: [Category, Category Name]\n",
      "Index: [], Empty DataFrame\n",
      "Columns: [Category, Category Name]\n",
      "Index: [], Empty DataFrame\n",
      "Columns: [Category, Category Name]\n",
      "Index: []]\n"
     ]
    }
   ],
   "source": [
    "#3. let's see if these \"Category\" values have an equivalent as \"Category Name\"\n",
    "\n",
    "l = []\n",
    "\n",
    "for i in range(len(unique_missing_category_name)):\n",
    "    l.append(matching_categories[matching_categories[\"Category\"] == unique_missing_category_name[i] ])\n",
    "    \n",
    "print \"l = \",l\n",
    "\n",
    "# l is empty, meaning that amongst data that we do have in the Category column, none of them can help us fill in the Category column.\n",
    "\n"
   ]
  },
  {
   "cell_type": "code",
   "execution_count": null,
   "metadata": {
    "collapsed": true
   },
   "outputs": [],
   "source": []
  },
  {
   "cell_type": "code",
   "execution_count": null,
   "metadata": {
    "collapsed": true
   },
   "outputs": [],
   "source": []
  },
  {
   "cell_type": "markdown",
   "metadata": {},
   "source": [
    "<img src=\"http://imgur.com/xDpSobf.png\" style=\"float: left; margin: 25px 15px 0px 0px; height: 25px\">\n",
    "\n",
    "### 8.2 Perform more extensive cleaning of the dataset\n",
    "\n",
    "Cleaning of data can mean a lot more than just fixing strings and numbers in columns. There are often logical errors with data, useless or nonsensical categories, redundancy of information, outliers, and many more problems.\n",
    "\n",
    "This dataset has problems beyond just fixing the types of columns. Though resolving them may not be required for EDA and analysis, if you want experience with \"deeper\" cleaning of data this is a great dataset to start practicing with.\n",
    "\n",
    "Keep in mind that some types of \"data cleaning\" is subjective: it's not always a cut-and-dry conversion of type or removal of null values. Subjectivity when dealing with data is just a fact of life for a data scientist. This isn't a kind of programming where things are just right or wrong."
   ]
  },
  {
   "cell_type": "code",
   "execution_count": null,
   "metadata": {
    "collapsed": true
   },
   "outputs": [],
   "source": []
  },
  {
   "cell_type": "markdown",
   "metadata": {},
   "source": [
    "<img src=\"http://imgur.com/l5NasQj.png\" style=\"float: left; margin: 25px 15px 0px 0px; height: 25px\">\n",
    "\n",
    "## 9. Filter/adjust the store data\n",
    "\n",
    "---\n",
    "\n",
    "Some stores may have opened or closed in 2015. These stores will have incorrect yearly summary statistics since they were not open the full year. We need to filter them out or find another way to deal with the inconsistent numbers of months across stores.\n",
    "\n",
    "It is up to you how you want to deal with this problem.\n",
    "\n",
    "1. Investigate problematic stores.\n",
    "2. Decide on an approach to handle missing data for stores not open for the full 2015 year. Do you impute? Remove the stores? Something else?\n",
    "3. Implement your plan.\n",
    "4. Briefly report on what you did and why.\n"
   ]
  },
  {
   "cell_type": "code",
   "execution_count": null,
   "metadata": {
    "collapsed": false
   },
   "outputs": [],
   "source": [
    "# First, let's retrieve the stores who were not open for the full 2015 year\n",
    "\n",
    "df_l['Date'] = pd.to_datetime(df_l['Date'])  \n",
    "df_l['Date'].dtype   "
   ]
  },
  {
   "cell_type": "code",
   "execution_count": null,
   "metadata": {
    "collapsed": false
   },
   "outputs": [],
   "source": [
    "def ran_whole_year(store_number):\n",
    "    \n",
    "    mask = (df_l['Date'] > '2015-6-1') & (df_l['Date'] <= '2015-9-10')\n",
    "    twenty_fifteen_dates = df_l.loc[mask]\n",
    "    active_one_month_in_2015 = twenty_fifteen_dates[[\"Store Number\"]].values\n",
    "\n",
    "    if store_number not in active_one_month_in_2015:\n",
    "        return 'inactive in 2015'\n",
    "    \n",
    "    else:\n",
    "        # if the store has run at least once during year2015, this will retrieve all rows during this period of time:\n",
    "        store_dates = twenty_fifteen_dates.Date[twenty_fifteen_dates['Store Number'] == store_number]\n",
    "        store_dates_months = store_dates.map(lambda x: x.month)\n",
    "        store_dates_months_unique = store_dates_months.unique()\n",
    "        df_l[\"unique months in 2015\"][df_l[\"Store Number\"] == store_number] = store_dates_months_unique \n",
    "    \n",
    "        if len(store_dates_months_unique) == 12:\n",
    "            return 'yes'\n",
    "        else:\n",
    "            return 'no'\n",
    "\n",
    "    \n",
    "df_l[\"Ran every month of 2015?\"] = df_l[\"Store Number\"].map(ran_whole_year)\n",
    "df_l.head(5)\n",
    "       "
   ]
  },
  {
   "cell_type": "code",
   "execution_count": null,
   "metadata": {
    "collapsed": true
   },
   "outputs": [],
   "source": [
    "# we'll try to implement a plan only for stores who were opened in 2015.\n",
    "\n",
    "# For these stores, the column \"unique months in 2015\" tells us the months they've been active.\n",
    "# By calculating the length of these, we can easily tell what would have been their profit and benefits on the year scale.\n",
    "\n",
    "def new_yearly_profit(store_number):\n",
    "    \n",
    "    #list of  stores that were not opened every single month of 2015:\n",
    "    didnot_open_fully = df_l['Store Number'][df_l[\"Ran every month of 2015?\"] == 'no']\n",
    "    unique_stores_didnot_open_fully = didnot_open_fully.unique()\n",
    "      \n",
    "    if store_number not in unique_stores_didnot_open_fully:\n",
    "        return \"None\"\n",
    "    else:\n",
    "        initial_sales = df_l[\"Sale (Dollars)\"][df_l[\"Store Number\"] == store_number].sum()\n",
    "        number_of_active_months = len(df_l[\"unique months in 2015\"][df_l[\"Store Number\"] == store_number])\n",
    "        avg_sales_per_month = initial_sales/number_of_active_months\n",
    "        yearly_expected = 12 * avg_sales_per_month\n",
    "\n",
    "        return yearly_expected\n",
    "\n",
    "#Based on the new_yearly_profit function, let's create a new column \"Yearly Expected\"\n",
    "df_l[\"Yearly Expected\"] = df_l[\"Store Number\"].map(new_yearly_profit)\n",
    "\n",
    "#Finally, let's add a column \"Yearly Profit (Cleaned)\", that picks one of the two following columns:\n",
    "# 1. \"Sale (Dollars)\"\n",
    "#or\n",
    "# 2. \"Yearly Expected\"\n",
    "\n",
    "def calculating yearly_profit_cleaned(store_number):\n",
    "    if ...\n",
    "    df_l[\"Yearly Profit (Cleaned)\"]\n",
    "# to be finished\n"
   ]
  },
  {
   "cell_type": "code",
   "execution_count": null,
   "metadata": {
    "collapsed": true
   },
   "outputs": [],
   "source": [
    "# active_all_year function lets you know if a given store has been active all year long\n",
    "def active_all_year(store_input_dates):\n",
    "    active_months = []\n",
    "    for i in store_input_dates:\n",
    "    \n",
    "        if i.month not in active_months:\n",
    "            active_months.append(i.month)\n",
    "        \n",
    "        if len(active_months_alpha) < 12:\n",
    "            return False\n",
    "        else:\n",
    "            return True\n",
    "        "
   ]
  },
  {
   "cell_type": "code",
   "execution_count": null,
   "metadata": {
    "collapsed": true
   },
   "outputs": [],
   "source": []
  },
  {
   "cell_type": "markdown",
   "metadata": {},
   "source": [
    "<img src=\"http://imgur.com/l5NasQj.png\" style=\"float: left; margin: 25px 15px 0px 0px; height: 25px\">\n",
    "\n",
    "## 10. Examine liquor profits\n",
    "\n",
    "---\n",
    "\n",
    "You are a data scientist in residence at the Iowa State tax board. The Iowa State legislature is considering changes in the liquor tax rates and has assigned you to the project.\n",
    "\n",
    "### 10.1 Calculate yearly liquor sales for each store in 2015."
   ]
  },
  {
   "cell_type": "code",
   "execution_count": null,
   "metadata": {
    "collapsed": false,
    "scrolled": true
   },
   "outputs": [],
   "source": [
    "dates_2015 = df_l[(df_l.Date > \"2015-01-01\") & (df_l.Date<\"2015-12-31\")]\n",
    "\n",
    "\n",
    "s = dates_2015.groupby(['Store Number'])['Sale (Dollars)'].sum()\n",
    "s.reset_index()\n",
    "\n",
    "print pd.DataFrame(s)\n"
   ]
  },
  {
   "cell_type": "markdown",
   "metadata": {},
   "source": [
    "### 10.2 Calculate the profit each store is making in 2015.\n"
   ]
  },
  {
   "cell_type": "code",
   "execution_count": null,
   "metadata": {
    "collapsed": false,
    "scrolled": true
   },
   "outputs": [],
   "source": [
    "# profit = sales - expenses\n",
    "#expenses = 'State Bottle Cost'*'Bottles Sold'\n",
    "dates_2015['Yearly Profit'] = df_l['Sale (Dollars)'] - (df_l['State Bottle Cost']*df_l['Bottles Sold'])\n",
    "\n",
    "\n",
    "year_profit = dates_2015.groupby(['Store Number'])['Yearly Profit'].sum()\n",
    "year_profit.reset_index()\n",
    "\n",
    "print pd.DataFrame(year_profit)\n"
   ]
  },
  {
   "cell_type": "markdown",
   "metadata": {},
   "source": [
    "### 10.3 Investigate which Iowa counties are making the most profit on liquor per gallon in 2015."
   ]
  },
  {
   "cell_type": "code",
   "execution_count": null,
   "metadata": {
    "collapsed": false
   },
   "outputs": [],
   "source": [
    "dates_2015.head()\n",
    "dates_2015['Profit per Gallon'] = dates_2015['Yearly Profit'] / dates_2015['Volume Sold (Gallons)']\n",
    "\n",
    "dates_2015.head()\n",
    "\n",
    "iowa_counties = dates_2015[dates_2015['County Number'] == 48.0]\n",
    "iowa_cities = iowa_counties.groupby([\"City\"])[\"Profit per Gallon\"].sum()\n",
    "iowa_most_profitable_cities = iowa_cities.sort_values(ascending=False)\n",
    "iowa_most_profitable_cities.reset_index()\n",
    "\n",
    "\"Below are the top most profitable cities per gallon in Iowa : \", iowa_most_profitable_cities\n",
    "\n",
    "#most_profitable_iowa_counties = dates_2015 ['County Number'] [dates_2015['County Number'] == 48.0].sort(ascending = False)\n",
    "# how do I select the rows where county number is 48 plus the rows where county is iowa?"
   ]
  },
  {
   "cell_type": "markdown",
   "metadata": {},
   "source": [
    "### 10.4 Create a broader category for liquor type.\n",
    "\n",
    "Liquor types are pretty granular in this dataset. Create a column that categorizes these types into a smaller amount of categories. The categories you decide on are up to you."
   ]
  },
  {
   "cell_type": "code",
   "execution_count": 35,
   "metadata": {
    "collapsed": false
   },
   "outputs": [
    {
     "data": {
      "text/plain": [
       "array(['APRICOT BRANDIES', 'BLENDED WHISKIES', 'STRAIGHT BOURBON WHISKIES',\n",
       "       'AMERICAN COCKTAILS', 'VODKA 80 PROOF', 'AMERICAN DRY GINS',\n",
       "       'AMERICAN GRAPE BRANDIES', 'CANADIAN WHISKIES', 'IMPORTED VODKA',\n",
       "       'CINNAMON SCHNAPPS', 'SINGLE BARREL BOURBON WHISKIES',\n",
       "       'PEPPERMINT SCHNAPPS', 'VODKA FLAVORED', '100 PROOF VODKA',\n",
       "       'DISTILLED SPIRITS SPECIALTY', 'TEQUILA', 'TENNESSEE WHISKIES',\n",
       "       'WHISKEY LIQUEUR', 'MISC. AMERICAN CORDIALS & LIQUEURS',\n",
       "       'APPLE SCHNAPPS', 'CHERRY BRANDIES',\n",
       "       'MISC. IMPORTED CORDIALS & LIQUEURS', 'IMPORTED DRY GINS',\n",
       "       'WATERMELON SCHNAPPS', 'BLACKBERRY BRANDIES', 'SINGLE MALT SCOTCH',\n",
       "       'PUERTO RICO & VIRGIN ISLANDS RUM', 'SPICED RUM', 'CREAM LIQUEURS',\n",
       "       'SCOTCH WHISKIES', 'IMPORTED VODKA - MISC', 'IRISH WHISKIES',\n",
       "       'FLAVORED RUM', 'IMPORTED GRAPE BRANDIES', 'SPEARMINT SCHNAPPS',\n",
       "       'RASPBERRY SCHNAPPS', 'TRIPLE SEC', 'AMERICAN AMARETTO',\n",
       "       'IMPORTED SCHNAPPS', 'STRAIGHT RYE WHISKIES', 'PEACH SCHNAPPS',\n",
       "       'MISCELLANEOUS  BRANDIES', 'STRAWBERRY SCHNAPPS',\n",
       "       'AMERICAN ALCOHOL', 'JAMAICA RUM', 'BARBADOS RUM',\n",
       "       'COFFEE LIQUEURS', 'ROOT BEER SCHNAPPS',\n",
       "       'DECANTERS & SPECIALTY PACKAGES', 'GRAPE SCHNAPPS',\n",
       "       'OTHER PROOF VODKA', nan, 'IMPORTED AMARETTO',\n",
       "       'BUTTERSCOTCH SCHNAPPS', 'ANISETTE', 'CREME DE ALMOND',\n",
       "       'ROCK & RYE', 'PEACH BRANDIES', 'FLAVORED GINS',\n",
       "       'MISCELLANEOUS SCHNAPPS', 'WHITE CREME DE MENTHE',\n",
       "       'WHITE CREME DE CACAO', 'TROPICAL FRUIT SCHNAPPS',\n",
       "       'GREEN CREME DE MENTHE', 'LOW PROOF VODKA', 'AMERICAN SLOE GINS',\n",
       "       'DARK CREME DE CACAO', 'JAPANESE WHISKY', 'BOTTLED IN BOND BOURBON',\n",
       "       'CORN WHISKIES', 'HIGH PROOF BEER - AMERICAN', 'AMARETTO - IMPORTED'], dtype=object)"
      ]
     },
     "execution_count": 35,
     "metadata": {},
     "output_type": "execute_result"
    }
   ],
   "source": [
    "initial_catg = df_l['Category Name'].unique()\n",
    "initial_catg"
   ]
  },
  {
   "cell_type": "code",
   "execution_count": 53,
   "metadata": {
    "collapsed": false
   },
   "outputs": [
    {
     "data": {
      "text/plain": [
       "{'AMARETTO': 'AMARETTO - IMPORTED',\n",
       " 'BRANDIES': 'PEACH BRANDIES',\n",
       " 'COCKTAILS': 'AMERICAN COCKTAILS',\n",
       " 'GINS': 'AMERICAN SLOE GINS',\n",
       " 'LIQUEUR': 'BUTTERSCOTCH SCHNAPPS',\n",
       " 'OTHER': 'HIGH PROOF BEER - AMERICAN',\n",
       " 'RUM': 'BARBADOS RUM',\n",
       " 'SCHNAPPS': 'TROPICAL FRUIT SCHNAPPS',\n",
       " 'SPIRITS': 'DISTILLED SPIRITS SPECIALTY',\n",
       " 'TEQUILA': 'TEQUILA',\n",
       " 'VODKA': 'LOW PROOF VODKA',\n",
       " 'WHISKIES': 'CORN WHISKIES'}"
      ]
     },
     "execution_count": 53,
     "metadata": {},
     "output_type": "execute_result"
    }
   ],
   "source": [
    "df_l.head()\n",
    "initial_catg = df_l['Category Name'].unique()\n",
    "\n",
    "categories_dict = {}\n",
    "for i in range(len(initial_catg)):\n",
    "    if 'BRANDIES' in str(initial_catg[i]):\n",
    "        categories_dict['BRANDIES']=initial_catg[i]\n",
    "    if 'BRANDIES' in str(initial_catg[i]):\n",
    "        categories_dict['BRANDIES']=initial_catg[i]\n",
    "    elif 'WHISKIES' in str(initial_catg[i]):\n",
    "        categories_dict['WHISKIES']=initial_catg[i]\n",
    "    elif 'SCOTCH' in str(initial_catg[i]):\n",
    "        categories_dict['LIQUEUR']=initial_catg[i]\n",
    "    elif 'VODKA' in str(initial_catg[i]):    \n",
    "        categories_dict['VODKA']=initial_catg[i]\n",
    "    elif 'GINS' in str(initial_catg[i]):\n",
    "        categories_dict['GINS']=initial_catg[i]\n",
    "    elif 'COCKTAILS' in str(initial_catg[i]):\n",
    "        categories_dict['COCKTAILS']=initial_catg[i]\n",
    "    elif 'SCHNAPPS' in str(initial_catg[i]):\n",
    "        categories_dict['SCHNAPPS']=initial_catg[i]\n",
    "    elif 'TEQUILA' in str(initial_catg[i]):\n",
    "        categories_dict['TEQUILA']=initial_catg[i]\n",
    "    elif 'SPIRITS' in str(initial_catg[i]):\n",
    "        categories_dict['SPIRITS']=initial_catg[i]\n",
    "    elif 'SPECIALTY' in str(initial_catg[i]):\n",
    "        categories_dict['LIQUEUR']=initial_catg[i]\n",
    "    elif 'RUM' in str(initial_catg[i]):\n",
    "        categories_dict['RUM']=initial_catg[i]\n",
    "    elif 'AMARETTO' in str(initial_catg[i]):\n",
    "        categories_dict['AMARETTO']=initial_catg[i]\n",
    "    else:\n",
    "        categories_dict['OTHER']=initial_catg[i]\n",
    "\n",
    "\n",
    "categories_dict\n"
   ]
  },
  {
   "cell_type": "code",
   "execution_count": 47,
   "metadata": {
    "collapsed": false
   },
   "outputs": [
    {
     "data": {
      "text/plain": [
       "pandas.core.series.Series"
      ]
     },
     "execution_count": 47,
     "metadata": {},
     "output_type": "execute_result"
    }
   ],
   "source": [
    "type(df_l['Category Name'])"
   ]
  },
  {
   "cell_type": "code",
   "execution_count": null,
   "metadata": {
    "collapsed": true
   },
   "outputs": [],
   "source": [
    "    if 'BRANDIES' in initial_catg[i]:\n",
    "        categories_dict['BRANDIES']=initial_catg[i]\n",
    "    elif 'WHISKIES' in initial_catg[i]:\n",
    "        categories_dict['WHISKIES']=initial_catg[i]\n",
    "    elif 'SCOTCH' in initial_catg[i]:\n",
    "        categories_dict['LIQUEUR']=initial_catg[i]\n",
    "    else:\n",
    "        categories_dict['OTHER']=initial_catg[i]    \n",
    "    \n",
    "    elif 'VODKA' in item:    \n",
    "        categories_dict['VODKA']=item\n",
    "    elif 'GINS' in item:\n",
    "        categories_dict['GINS']=item\n",
    "    elif 'COCKTAILS' in item:\n",
    "        categories_dict['COCKTAILS']=item\n",
    "    elif 'SCHNAPPS' in item:\n",
    "        categories_dict['SCHNAPPS']=item\n",
    "    elif 'TEQUILA' in item:\n",
    "        categories_dict['TEQUILA']=item\n",
    "    elif 'SPIRITS' in item:\n",
    "        categories_dict['SPIRITS']=item\n",
    "    elif 'SPECIALTY' in item:\n",
    "        categories_dict['LIQUEUR']=item\n",
    "    elif 'RUM' in item:\n",
    "        categories_dict['RUM']=item\n",
    "    elif 'AMARETTO' in item:\n",
    "        categories_dict['AMARETTO']=item\n",
    "    else:\n",
    "        categories_dict['OTHER']=item\n"
   ]
  },
  {
   "cell_type": "markdown",
   "metadata": {},
   "source": [
    "### 10.5 Do relationships exist between the broader liquor type and profit?"
   ]
  },
  {
   "cell_type": "code",
   "execution_count": null,
   "metadata": {
    "collapsed": true
   },
   "outputs": [],
   "source": []
  },
  {
   "cell_type": "markdown",
   "metadata": {},
   "source": [
    "<img src=\"http://imgur.com/l5NasQj.png\" style=\"float: left; margin: 25px 15px 0px 0px; height: 25px\">\n",
    "\n",
    "## 11. Proposing a new liquor tax\n",
    "\n",
    "---\n",
    "\n",
    "### The tax board wants to design a tax or taxes that affect larger stores more than smaller \"mom and pop\" stores.\n",
    "\n",
    "Based on your investigations into the data, come up with a way you could design a tax that achieves this goal **without explicitly taxing stores based on size or county critera.** The liqour board does not want to obviously punish larger stores or speific counties for fear of backlash, but is willing to tax hard alcohol more than beer, for example.\n",
    "\n",
    "Feel free to do more EDA if it helps.\n",
    "\n",
    "Your report should describe whether such a tax is possible or not, and the specifics of what the tax will target/do."
   ]
  },
  {
   "cell_type": "code",
   "execution_count": null,
   "metadata": {
    "collapsed": true
   },
   "outputs": [],
   "source": []
  },
  {
   "cell_type": "markdown",
   "metadata": {},
   "source": [
    "<img src=\"http://imgur.com/GCAf1UX.png\" style=\"float: left; margin: 25px 15px 0px 0px; height: 25px\">\n",
    "\n",
    "## 12. Time-related effects\n",
    "\n",
    "---\n",
    "\n",
    "You could imagine that liquor sales might be affected by a variety of effects related to time. Do people buy more beer in the summer? Do liquor sales skyrocket in december? Do people buy less liquor on Tuesdays?\n",
    "\n",
    "You have the date of sales in your dataset, which you can use to pull out time components.\n",
    "\n",
    "1. Come up with 2 different hypotheses about how liquor sales may vary with time-related variables. \n",
    "2. Create a visualization exploring each hypothesis.\n",
    "3. Write brief concluding remarks on what you observed.\n"
   ]
  },
  {
   "cell_type": "code",
   "execution_count": null,
   "metadata": {
    "collapsed": true
   },
   "outputs": [],
   "source": []
  }
 ],
 "metadata": {
  "anaconda-cloud": {},
  "kernelspec": {
   "display_name": "Python [conda env:dsi]",
   "language": "python",
   "name": "conda-env-dsi-py"
  },
  "language_info": {
   "codemirror_mode": {
    "name": "ipython",
    "version": 2
   },
   "file_extension": ".py",
   "mimetype": "text/x-python",
   "name": "python",
   "nbconvert_exporter": "python",
   "pygments_lexer": "ipython2",
   "version": "2.7.12"
  }
 },
 "nbformat": 4,
 "nbformat_minor": 0
}
